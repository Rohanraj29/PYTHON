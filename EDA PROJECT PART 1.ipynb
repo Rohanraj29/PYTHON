{
 "cells": [
  {
   "cell_type": "code",
   "execution_count": 4,
   "id": "77950f06-fce8-4169-9e9f-907179344268",
   "metadata": {},
   "outputs": [
    {
     "name": "stdout",
     "output_type": "stream",
     "text": [
      "       Date/Time  Temp_C  Dew Point Temp_C  Rel Hum_%  Wind Speed_km/h  \\\n",
      "0  1/1/2012 0:00    -1.8              -3.9         86                4   \n",
      "1  1/1/2012 1:00    -1.8              -3.7         87                4   \n",
      "2  1/1/2012 2:00    -1.8              -3.4         89                7   \n",
      "3  1/1/2012 3:00    -1.5              -3.2         88                6   \n",
      "\n",
      "   Visibility_km  Press_kPa               Weather  \n",
      "0            8.0     101.24                   Fog  \n",
      "1            8.0     101.24                   Fog  \n",
      "2            4.0     101.26  Freezing Drizzle,Fog  \n",
      "3            4.0     101.27  Freezing Drizzle,Fog  \n"
     ]
    }
   ],
   "source": [
    "import pandas as pd\n",
    "a=pd.read_csv(\"C:\\\\Users\\\\rohan\\\\Downloads\\\\file.csv\")\n",
    "print(a.head(4))"
   ]
  },
  {
   "cell_type": "code",
   "execution_count": 9,
   "id": "871f54e2-e97a-47c4-95b8-bef279be0fca",
   "metadata": {},
   "outputs": [
    {
     "data": {
      "text/plain": [
       "(8784, 8)"
      ]
     },
     "execution_count": 9,
     "metadata": {},
     "output_type": "execute_result"
    }
   ],
   "source": [
    "a.shape"
   ]
  },
  {
   "cell_type": "markdown",
   "id": "11c34b23-ae4c-4a2c-bbb7-21f084790eed",
   "metadata": {},
   "source": [
    "# UNIQUE KEYWORD IN PANDAS GIVE THE UNIQUE VALUE OF A COLUMN. IT CAN WORK ONLY ON COLUMN NOT ON WHOLE DATASET."
   ]
  },
  {
   "cell_type": "code",
   "execution_count": 3,
   "id": "302a864c-241a-4acb-8453-b36c573f758a",
   "metadata": {},
   "outputs": [
    {
     "data": {
      "text/plain": [
       "array(['Fog', 'Freezing Drizzle,Fog', 'Mostly Cloudy', 'Cloudy', 'Rain',\n",
       "       'Rain Showers', 'Mainly Clear', 'Snow Showers', 'Snow', 'Clear',\n",
       "       'Freezing Rain,Fog', 'Freezing Rain', 'Freezing Drizzle',\n",
       "       'Rain,Snow', 'Moderate Snow', 'Freezing Drizzle,Snow',\n",
       "       'Freezing Rain,Snow Grains', 'Snow,Blowing Snow', 'Freezing Fog',\n",
       "       'Haze', 'Rain,Fog', 'Drizzle,Fog', 'Drizzle',\n",
       "       'Freezing Drizzle,Haze', 'Freezing Rain,Haze', 'Snow,Haze',\n",
       "       'Snow,Fog', 'Snow,Ice Pellets', 'Rain,Haze', 'Thunderstorms,Rain',\n",
       "       'Thunderstorms,Rain Showers', 'Thunderstorms,Heavy Rain Showers',\n",
       "       'Thunderstorms,Rain Showers,Fog', 'Thunderstorms',\n",
       "       'Thunderstorms,Rain,Fog',\n",
       "       'Thunderstorms,Moderate Rain Showers,Fog', 'Rain Showers,Fog',\n",
       "       'Rain Showers,Snow Showers', 'Snow Pellets', 'Rain,Snow,Fog',\n",
       "       'Moderate Rain,Fog', 'Freezing Rain,Ice Pellets,Fog',\n",
       "       'Drizzle,Ice Pellets,Fog', 'Drizzle,Snow', 'Rain,Ice Pellets',\n",
       "       'Drizzle,Snow,Fog', 'Rain,Snow Grains', 'Rain,Snow,Ice Pellets',\n",
       "       'Snow Showers,Fog', 'Moderate Snow,Blowing Snow'], dtype=object)"
      ]
     },
     "execution_count": 3,
     "metadata": {},
     "output_type": "execute_result"
    }
   ],
   "source": [
    "a[\"Weather\"].unique()"
   ]
  },
  {
   "cell_type": "markdown",
   "id": "6eda4d23-70d2-458c-9129-acc3ecbcd9e7",
   "metadata": {},
   "source": [
    "# It shows the total no. of unique values in each column. It can be applied on a single column as well as on the whole dataframe."
   ]
  },
  {
   "cell_type": "code",
   "execution_count": 6,
   "id": "dff7336b-cb41-4896-86e2-93991002734d",
   "metadata": {},
   "outputs": [
    {
     "data": {
      "text/plain": [
       "Date/Time           8784\n",
       "Temp_C               533\n",
       "Dew Point Temp_C     489\n",
       "Rel Hum_%             83\n",
       "Wind Speed_km/h       34\n",
       "Visibility_km         24\n",
       "Press_kPa            518\n",
       "Weather               50\n",
       "dtype: int64"
      ]
     },
     "execution_count": 6,
     "metadata": {},
     "output_type": "execute_result"
    }
   ],
   "source": [
    "a.nunique()"
   ]
  },
  {
   "cell_type": "markdown",
   "id": "ba5fda55-1f85-47c8-b5b8-6bf87b187119",
   "metadata": {},
   "source": [
    "#  It shows the total no. of non-null values in each column. It can be applied on a single column as well as on the whole dataframe."
   ]
  },
  {
   "cell_type": "code",
   "execution_count": 10,
   "id": "26758906-680d-47f8-a848-13c91d9ca8dc",
   "metadata": {},
   "outputs": [
    {
     "data": {
      "text/plain": [
       "Date/Time           8784\n",
       "Temp_C              8784\n",
       "Dew Point Temp_C    8784\n",
       "Rel Hum_%           8784\n",
       "Wind Speed_km/h     8784\n",
       "Visibility_km       8784\n",
       "Press_kPa           8784\n",
       "Weather             8784\n",
       "dtype: int64"
      ]
     },
     "execution_count": 10,
     "metadata": {},
     "output_type": "execute_result"
    }
   ],
   "source": [
    "a.count()"
   ]
  },
  {
   "cell_type": "markdown",
   "id": "2611eea8-c18b-4ddb-b29e-0acf7c8d2632",
   "metadata": {},
   "source": [
    "#  In a column, it shows all the unique values with their count. It can be applied on a single column only."
   ]
  },
  {
   "cell_type": "code",
   "execution_count": 14,
   "id": "c5c0a13c-dba6-48cb-a780-47d32feb6dbf",
   "metadata": {},
   "outputs": [
    {
     "data": {
      "text/plain": [
       "Weather\n",
       "Mainly Clear                               2106\n",
       "Mostly Cloudy                              2069\n",
       "Cloudy                                     1728\n",
       "Clear                                      1326\n",
       "Snow                                        390\n",
       "Rain                                        306\n",
       "Rain Showers                                188\n",
       "Fog                                         150\n",
       "Rain,Fog                                    116\n",
       "Drizzle,Fog                                  80\n",
       "Snow Showers                                 60\n",
       "Drizzle                                      41\n",
       "Snow,Fog                                     37\n",
       "Snow,Blowing Snow                            19\n",
       "Rain,Snow                                    18\n",
       "Thunderstorms,Rain Showers                   16\n",
       "Haze                                         16\n",
       "Drizzle,Snow,Fog                             15\n",
       "Freezing Rain                                14\n",
       "Freezing Drizzle,Snow                        11\n",
       "Freezing Drizzle                              7\n",
       "Snow,Ice Pellets                              6\n",
       "Freezing Drizzle,Fog                          6\n",
       "Snow,Haze                                     5\n",
       "Freezing Fog                                  4\n",
       "Snow Showers,Fog                              4\n",
       "Moderate Snow                                 4\n",
       "Rain,Snow,Ice Pellets                         4\n",
       "Freezing Rain,Fog                             4\n",
       "Freezing Drizzle,Haze                         3\n",
       "Rain,Haze                                     3\n",
       "Thunderstorms,Rain                            3\n",
       "Thunderstorms,Rain Showers,Fog                3\n",
       "Freezing Rain,Haze                            2\n",
       "Drizzle,Snow                                  2\n",
       "Rain Showers,Snow Showers                     2\n",
       "Thunderstorms                                 2\n",
       "Moderate Snow,Blowing Snow                    2\n",
       "Rain Showers,Fog                              1\n",
       "Thunderstorms,Moderate Rain Showers,Fog       1\n",
       "Snow Pellets                                  1\n",
       "Rain,Snow,Fog                                 1\n",
       "Moderate Rain,Fog                             1\n",
       "Freezing Rain,Ice Pellets,Fog                 1\n",
       "Drizzle,Ice Pellets,Fog                       1\n",
       "Thunderstorms,Rain,Fog                        1\n",
       "Rain,Ice Pellets                              1\n",
       "Rain,Snow Grains                              1\n",
       "Thunderstorms,Heavy Rain Showers              1\n",
       "Freezing Rain,Snow Grains                     1\n",
       "Name: count, dtype: int64"
      ]
     },
     "execution_count": 14,
     "metadata": {},
     "output_type": "execute_result"
    }
   ],
   "source": [
    "a[\"Weather\"].value_counts()"
   ]
  },
  {
   "cell_type": "markdown",
   "id": "5d5714cf-36c4-430b-bc60-2f6455a24311",
   "metadata": {},
   "source": [
    "# Q. 1)  Find all the unique 'Wind Speed' values in the data"
   ]
  },
  {
   "cell_type": "code",
   "execution_count": 15,
   "id": "5d3c162e-8d2c-4d2a-a1eb-f0d4cb64da3f",
   "metadata": {},
   "outputs": [
    {
     "name": "stdout",
     "output_type": "stream",
     "text": [
      "       Date/Time  Temp_C  Dew Point Temp_C  Rel Hum_%  Wind Speed_km/h  \\\n",
      "0  1/1/2012 0:00    -1.8              -3.9         86                4   \n",
      "1  1/1/2012 1:00    -1.8              -3.7         87                4   \n",
      "\n",
      "   Visibility_km  Press_kPa Weather  \n",
      "0            8.0     101.24     Fog  \n",
      "1            8.0     101.24     Fog  \n"
     ]
    }
   ],
   "source": [
    "import pandas as pd\n",
    "print(a.head(2))"
   ]
  },
  {
   "cell_type": "code",
   "execution_count": 18,
   "id": "914e79bd-e323-4854-b50d-1fb69957eab0",
   "metadata": {},
   "outputs": [
    {
     "name": "stdout",
     "output_type": "stream",
     "text": [
      "[ 4  7  6  9 15 13 20 22 19 24 30 35 39 32 33 26 44 43 48 37 28 17 11  0\n",
      " 83 70 57 46 41 52 50 63 54  2]\n"
     ]
    }
   ],
   "source": [
    "print(a[\"Wind Speed_km/h\"].unique())"
   ]
  },
  {
   "cell_type": "markdown",
   "id": "1c181413-e948-42c7-b2dd-0839002daf73",
   "metadata": {},
   "source": [
    "# Find the number of times when the 'Weather is exactly Clear'."
   ]
  },
  {
   "cell_type": "code",
   "execution_count": 2,
   "id": "3c1c2b05-8829-44c4-bcba-d78ce8b50c0d",
   "metadata": {},
   "outputs": [
    {
     "name": "stdout",
     "output_type": "stream",
     "text": [
      "Weather\n",
      "Mainly Clear                               2106\n",
      "Mostly Cloudy                              2069\n",
      "Cloudy                                     1728\n",
      "Clear                                      1326\n",
      "Snow                                        390\n",
      "Rain                                        306\n",
      "Rain Showers                                188\n",
      "Fog                                         150\n",
      "Rain,Fog                                    116\n",
      "Drizzle,Fog                                  80\n",
      "Snow Showers                                 60\n",
      "Drizzle                                      41\n",
      "Snow,Fog                                     37\n",
      "Snow,Blowing Snow                            19\n",
      "Rain,Snow                                    18\n",
      "Thunderstorms,Rain Showers                   16\n",
      "Haze                                         16\n",
      "Drizzle,Snow,Fog                             15\n",
      "Freezing Rain                                14\n",
      "Freezing Drizzle,Snow                        11\n",
      "Freezing Drizzle                              7\n",
      "Snow,Ice Pellets                              6\n",
      "Freezing Drizzle,Fog                          6\n",
      "Snow,Haze                                     5\n",
      "Freezing Fog                                  4\n",
      "Snow Showers,Fog                              4\n",
      "Moderate Snow                                 4\n",
      "Rain,Snow,Ice Pellets                         4\n",
      "Freezing Rain,Fog                             4\n",
      "Freezing Drizzle,Haze                         3\n",
      "Rain,Haze                                     3\n",
      "Thunderstorms,Rain                            3\n",
      "Thunderstorms,Rain Showers,Fog                3\n",
      "Freezing Rain,Haze                            2\n",
      "Drizzle,Snow                                  2\n",
      "Rain Showers,Snow Showers                     2\n",
      "Thunderstorms                                 2\n",
      "Moderate Snow,Blowing Snow                    2\n",
      "Rain Showers,Fog                              1\n",
      "Thunderstorms,Moderate Rain Showers,Fog       1\n",
      "Snow Pellets                                  1\n",
      "Rain,Snow,Fog                                 1\n",
      "Moderate Rain,Fog                             1\n",
      "Freezing Rain,Ice Pellets,Fog                 1\n",
      "Drizzle,Ice Pellets,Fog                       1\n",
      "Thunderstorms,Rain,Fog                        1\n",
      "Rain,Ice Pellets                              1\n",
      "Rain,Snow Grains                              1\n",
      "Thunderstorms,Heavy Rain Showers              1\n",
      "Freezing Rain,Snow Grains                     1\n",
      "Name: count, dtype: int64\n"
     ]
    }
   ],
   "source": [
    "import pandas as pd\n",
    "a=pd.read_csv(\"C:\\\\Users\\\\rohan\\\\Downloads\\\\file.csv\")\n",
    "print(a[\"Weather\"].value_counts())"
   ]
  },
  {
   "cell_type": "code",
   "execution_count": 17,
   "id": "2bbc3d8c-a591-46db-8cee-63283877cb54",
   "metadata": {},
   "outputs": [
    {
     "name": "stdout",
     "output_type": "stream",
     "text": [
      "             Date/Time  Temp_C  Dew Point Temp_C  Rel Hum_%  Wind Speed_km/h  \\\n",
      "67      1/3/2012 19:00   -16.9             -24.8         50               24   \n",
      "114     1/5/2012 18:00    -7.1             -14.4         56               11   \n",
      "115     1/5/2012 19:00    -9.2             -15.4         61                7   \n",
      "116     1/5/2012 20:00    -9.8             -15.7         62                9   \n",
      "117     1/5/2012 21:00    -9.0             -14.8         63               13   \n",
      "...                ...     ...               ...        ...              ...   \n",
      "8646   12/26/2012 6:00   -13.4             -14.8         89                4   \n",
      "8698  12/28/2012 10:00    -6.1              -8.6         82               19   \n",
      "8713   12/29/2012 1:00   -11.9             -13.6         87               11   \n",
      "8714   12/29/2012 2:00   -11.8             -13.1         90               13   \n",
      "8756  12/30/2012 20:00   -13.8             -16.5         80               24   \n",
      "\n",
      "      Visibility_km  Press_kPa Weather  \n",
      "67             25.0     101.74   Clear  \n",
      "114            25.0     100.71   Clear  \n",
      "115            25.0     100.80   Clear  \n",
      "116            25.0     100.83   Clear  \n",
      "117            25.0     100.83   Clear  \n",
      "...             ...        ...     ...  \n",
      "8646           25.0     102.47   Clear  \n",
      "8698           24.1     101.27   Clear  \n",
      "8713           25.0     101.31   Clear  \n",
      "8714           25.0     101.33   Clear  \n",
      "8756           25.0     101.52   Clear  \n",
      "\n",
      "[1326 rows x 8 columns]\n"
     ]
    }
   ],
   "source": [
    "import pandas as pd\n",
    "#print (a[a[\"Weather\"]==\"Clear\"])\n",
    "print(a[a.Weather==\"Clear\"])\n",
    "#r=(a[a.Weather==\"Clear\"].value_counts())\n",
    "#print(r)"
   ]
  },
  {
   "cell_type": "code",
   "execution_count": 16,
   "id": "299f3969-ec7f-44e6-af9c-f58e1abba583",
   "metadata": {},
   "outputs": [
    {
     "name": "stdout",
     "output_type": "stream",
     "text": [
      "             Date/Time  Temp_C  Dew Point Temp_C  Rel Hum_%  Wind Speed_km/h  \\\n",
      "67      1/3/2012 19:00   -16.9             -24.8         50               24   \n",
      "114     1/5/2012 18:00    -7.1             -14.4         56               11   \n",
      "115     1/5/2012 19:00    -9.2             -15.4         61                7   \n",
      "116     1/5/2012 20:00    -9.8             -15.7         62                9   \n",
      "117     1/5/2012 21:00    -9.0             -14.8         63               13   \n",
      "...                ...     ...               ...        ...              ...   \n",
      "8646   12/26/2012 6:00   -13.4             -14.8         89                4   \n",
      "8698  12/28/2012 10:00    -6.1              -8.6         82               19   \n",
      "8713   12/29/2012 1:00   -11.9             -13.6         87               11   \n",
      "8714   12/29/2012 2:00   -11.8             -13.1         90               13   \n",
      "8756  12/30/2012 20:00   -13.8             -16.5         80               24   \n",
      "\n",
      "      Visibility_km  Press_kPa Weather  \n",
      "67             25.0     101.74   Clear  \n",
      "114            25.0     100.71   Clear  \n",
      "115            25.0     100.80   Clear  \n",
      "116            25.0     100.83   Clear  \n",
      "117            25.0     100.83   Clear  \n",
      "...             ...        ...     ...  \n",
      "8646           25.0     102.47   Clear  \n",
      "8698           24.1     101.27   Clear  \n",
      "8713           25.0     101.31   Clear  \n",
      "8714           25.0     101.33   Clear  \n",
      "8756           25.0     101.52   Clear  \n",
      "\n",
      "[1326 rows x 8 columns]\n"
     ]
    }
   ],
   "source": [
    "print(a.groupby(\"Weather\").get_group(\"Clear\"))"
   ]
  },
  {
   "cell_type": "markdown",
   "id": "07b550ea-8905-40c5-9558-b53debd32c88",
   "metadata": {},
   "source": [
    "# Q. 3) Find the number of times when the 'Wind Speed was exactly 4 km/h'."
   ]
  },
  {
   "cell_type": "code",
   "execution_count": 30,
   "id": "be30b231-abba-4a41-a058-b1b503286982",
   "metadata": {},
   "outputs": [
    {
     "name": "stdout",
     "output_type": "stream",
     "text": [
      "Wind Speed_km/h\n",
      "9     830\n",
      "11    791\n",
      "13    735\n",
      "15    719\n",
      "7     677\n",
      "17    666\n",
      "19    616\n",
      "6     609\n",
      "20    496\n",
      "4     474\n",
      "22    439\n",
      "24    374\n",
      "0     309\n",
      "26    242\n",
      "28    205\n",
      "30    161\n",
      "32    139\n",
      "33     85\n",
      "35     53\n",
      "37     45\n",
      "39     24\n",
      "41     22\n",
      "44     14\n",
      "43     13\n",
      "48     13\n",
      "46     11\n",
      "52      7\n",
      "57      5\n",
      "50      4\n",
      "2       2\n",
      "83      1\n",
      "70      1\n",
      "63      1\n",
      "54      1\n",
      "Name: count, dtype: int64\n"
     ]
    }
   ],
   "source": [
    "import pandas as pd\n",
    "print(a[\"Wind Speed_km/h\"].value_counts())"
   ]
  },
  {
   "cell_type": "code",
   "execution_count": 5,
   "id": "d12fd868-7541-4e40-aac3-3d6351a3782d",
   "metadata": {},
   "outputs": [
    {
     "name": "stdout",
     "output_type": "stream",
     "text": [
      "             Date/Time  Temp_C  Dew Point Temp_C  Rel Hum_%  Wind Speed_km/h  \\\n",
      "0        1/1/2012 0:00    -1.8              -3.9         86                4   \n",
      "1        1/1/2012 1:00    -1.8              -3.7         87                4   \n",
      "96       1/5/2012 0:00    -8.8             -11.7         79                4   \n",
      "101      1/5/2012 5:00    -7.0              -9.5         82                4   \n",
      "146      1/7/2012 2:00    -8.1             -11.1         79                4   \n",
      "...                ...     ...               ...        ...              ...   \n",
      "8768   12/31/2012 8:00    -8.6             -10.3         87                4   \n",
      "8769   12/31/2012 9:00    -8.1              -9.6         89                4   \n",
      "8770  12/31/2012 10:00    -7.4              -8.9         89                4   \n",
      "8772  12/31/2012 12:00    -5.8              -7.5         88                4   \n",
      "8773  12/31/2012 13:00    -4.6              -6.6         86                4   \n",
      "\n",
      "      Visibility_km  Press_kPa       Weather  \n",
      "0               8.0     101.24           Fog  \n",
      "1               8.0     101.24           Fog  \n",
      "96              9.7     100.32          Snow  \n",
      "101             4.0     100.19          Snow  \n",
      "146            19.3     100.15        Cloudy  \n",
      "...             ...        ...           ...  \n",
      "8768            3.2     101.14  Snow Showers  \n",
      "8769            2.4     101.09          Snow  \n",
      "8770            6.4     101.05      Snow,Fog  \n",
      "8772           12.9     100.78          Snow  \n",
      "8773           12.9     100.63          Snow  \n",
      "\n",
      "[474 rows x 8 columns]\n"
     ]
    }
   ],
   "source": [
    "print (a[a[\"Wind Speed_km/h\"]==4])"
   ]
  },
  {
   "cell_type": "code",
   "execution_count": 28,
   "id": "a476e5fe-3b35-41c1-bebc-9c6386e7048a",
   "metadata": {},
   "outputs": [
    {
     "name": "stdout",
     "output_type": "stream",
     "text": [
      "             Date/Time  Temp_C  Dew Point Temp_C  Rel Hum_%  Wind Speed_km/h  \\\n",
      "0        1/1/2012 0:00    -1.8              -3.9         86                4   \n",
      "1        1/1/2012 1:00    -1.8              -3.7         87                4   \n",
      "96       1/5/2012 0:00    -8.8             -11.7         79                4   \n",
      "101      1/5/2012 5:00    -7.0              -9.5         82                4   \n",
      "146      1/7/2012 2:00    -8.1             -11.1         79                4   \n",
      "...                ...     ...               ...        ...              ...   \n",
      "8768   12/31/2012 8:00    -8.6             -10.3         87                4   \n",
      "8769   12/31/2012 9:00    -8.1              -9.6         89                4   \n",
      "8770  12/31/2012 10:00    -7.4              -8.9         89                4   \n",
      "8772  12/31/2012 12:00    -5.8              -7.5         88                4   \n",
      "8773  12/31/2012 13:00    -4.6              -6.6         86                4   \n",
      "\n",
      "      Visibility_km  Press_kPa       Weather  \n",
      "0               8.0     101.24           Fog  \n",
      "1               8.0     101.24           Fog  \n",
      "96              9.7     100.32          Snow  \n",
      "101             4.0     100.19          Snow  \n",
      "146            19.3     100.15        Cloudy  \n",
      "...             ...        ...           ...  \n",
      "8768            3.2     101.14  Snow Showers  \n",
      "8769            2.4     101.09          Snow  \n",
      "8770            6.4     101.05      Snow,Fog  \n",
      "8772           12.9     100.78          Snow  \n",
      "8773           12.9     100.63          Snow  \n",
      "\n",
      "[474 rows x 8 columns]\n"
     ]
    }
   ],
   "source": [
    "print(a.groupby(\"Wind Speed_km/h\").get_group(4))"
   ]
  },
  {
   "cell_type": "markdown",
   "id": "74f3377f-8862-45ff-9905-7ba6ada49c94",
   "metadata": {},
   "source": [
    "# Q. 4) Find out all the Null Values in the data."
   ]
  },
  {
   "cell_type": "code",
   "execution_count": 31,
   "id": "922320eb-033e-47c1-9d41-67f654918a84",
   "metadata": {},
   "outputs": [
    {
     "name": "stdout",
     "output_type": "stream",
     "text": [
      "Date/Time           0\n",
      "Temp_C              0\n",
      "Dew Point Temp_C    0\n",
      "Rel Hum_%           0\n",
      "Wind Speed_km/h     0\n",
      "Visibility_km       0\n",
      "Press_kPa           0\n",
      "Weather             0\n",
      "dtype: int64\n"
     ]
    }
   ],
   "source": [
    "import pandas as pd\n",
    "print(a.isnull().sum())"
   ]
  },
  {
   "cell_type": "code",
   "execution_count": 32,
   "id": "765c0551-f99e-4d41-b9e9-becf272023b2",
   "metadata": {},
   "outputs": [
    {
     "name": "stdout",
     "output_type": "stream",
     "text": [
      "Date/Time           8784\n",
      "Temp_C              8784\n",
      "Dew Point Temp_C    8784\n",
      "Rel Hum_%           8784\n",
      "Wind Speed_km/h     8784\n",
      "Visibility_km       8784\n",
      "Press_kPa           8784\n",
      "Weather             8784\n",
      "dtype: int64\n"
     ]
    }
   ],
   "source": [
    "print(a.notnull().sum())"
   ]
  },
  {
   "cell_type": "markdown",
   "id": "bc114222-2ead-44f8-bf9f-3811d36eae35",
   "metadata": {},
   "source": [
    "# Q. 5) Rename the column name 'Weather' of the dataframe to 'Weather Condition'."
   ]
  },
  {
   "cell_type": "code",
   "execution_count": 36,
   "id": "8bc16f9a-dafb-472f-b05e-84a120bbc692",
   "metadata": {},
   "outputs": [
    {
     "name": "stdout",
     "output_type": "stream",
     "text": [
      "             Date/Time  Temp_C  Dew Point Temp_C  Rel Hum_%  Wind Speed_km/h  \\\n",
      "0        1/1/2012 0:00    -1.8              -3.9         86                4   \n",
      "1        1/1/2012 1:00    -1.8              -3.7         87                4   \n",
      "2        1/1/2012 2:00    -1.8              -3.4         89                7   \n",
      "3        1/1/2012 3:00    -1.5              -3.2         88                6   \n",
      "4        1/1/2012 4:00    -1.5              -3.3         88                7   \n",
      "...                ...     ...               ...        ...              ...   \n",
      "8779  12/31/2012 19:00     0.1              -2.7         81               30   \n",
      "8780  12/31/2012 20:00     0.2              -2.4         83               24   \n",
      "8781  12/31/2012 21:00    -0.5              -1.5         93               28   \n",
      "8782  12/31/2012 22:00    -0.2              -1.8         89               28   \n",
      "8783  12/31/2012 23:00     0.0              -2.1         86               30   \n",
      "\n",
      "      Visibility_km  Press_kPa     Weather Condition  \n",
      "0               8.0     101.24                   Fog  \n",
      "1               8.0     101.24                   Fog  \n",
      "2               4.0     101.26  Freezing Drizzle,Fog  \n",
      "3               4.0     101.27  Freezing Drizzle,Fog  \n",
      "4               4.8     101.23                   Fog  \n",
      "...             ...        ...                   ...  \n",
      "8779            9.7     100.13                  Snow  \n",
      "8780            9.7     100.03                  Snow  \n",
      "8781            4.8      99.95                  Snow  \n",
      "8782            9.7      99.91                  Snow  \n",
      "8783           11.3      99.89                  Snow  \n",
      "\n",
      "[8784 rows x 8 columns]\n"
     ]
    }
   ],
   "source": [
    "import pandas as pd\n",
    "a.rename(columns={\"Weather\":\"Weather Condition\"},inplace=True)\n",
    "print(a)"
   ]
  },
  {
   "cell_type": "markdown",
   "id": "312bcac3-a589-4034-9f7f-57cfa258c436",
   "metadata": {},
   "source": [
    "# Q. 6) What is the mean 'Visibility' ?"
   ]
  },
  {
   "cell_type": "code",
   "execution_count": 38,
   "id": "8d10d682-9249-4218-8e61-a650ddec953b",
   "metadata": {},
   "outputs": [
    {
     "name": "stdout",
     "output_type": "stream",
     "text": [
      "27.664446721311478\n"
     ]
    }
   ],
   "source": [
    "import pandas as pd\n",
    "print(a[\"Visibility_km\"].mean())"
   ]
  },
  {
   "cell_type": "markdown",
   "id": "f61bc989-a996-4f82-9839-66cf2d66f348",
   "metadata": {},
   "source": [
    "# Q. 7) What is the Standard Deviation of 'Pressure'  in this data?"
   ]
  },
  {
   "cell_type": "code",
   "execution_count": 39,
   "id": "b9f76f20-e7e3-41d2-82ac-dd1bbc85243f",
   "metadata": {},
   "outputs": [
    {
     "name": "stdout",
     "output_type": "stream",
     "text": [
      "0.8440047459486474\n"
     ]
    }
   ],
   "source": [
    "import pandas as pd\n",
    "print(a[\"Press_kPa\"].std())"
   ]
  },
  {
   "cell_type": "markdown",
   "id": "cbe1ebf0-8605-45dc-9599-4770c9a98db3",
   "metadata": {},
   "source": [
    "# Q. 8) What is the Variance of 'Relative Humidity' in this data ?"
   ]
  },
  {
   "cell_type": "code",
   "execution_count": 40,
   "id": "4b30bc9b-015b-4f74-ad13-4ae34d9be33e",
   "metadata": {},
   "outputs": [
    {
     "name": "stdout",
     "output_type": "stream",
     "text": [
      "286.2485501984998\n"
     ]
    }
   ],
   "source": [
    "import pandas as pd\n",
    "print(a[\"Rel Hum_%\"].var())"
   ]
  },
  {
   "cell_type": "markdown",
   "id": "e42d7a31-e783-432f-b18f-05e11a8adcb5",
   "metadata": {},
   "source": [
    "# Q. 9) Find all instances when 'Snow' was recorded.\n"
   ]
  },
  {
   "cell_type": "code",
   "execution_count": 42,
   "id": "00bdbf6d-42bd-4fd9-98e0-cd97480f8f24",
   "metadata": {},
   "outputs": [
    {
     "name": "stdout",
     "output_type": "stream",
     "text": [
      "Weather Condition\n",
      "Mainly Clear                               2106\n",
      "Mostly Cloudy                              2069\n",
      "Cloudy                                     1728\n",
      "Clear                                      1326\n",
      "Snow                                        390\n",
      "Rain                                        306\n",
      "Rain Showers                                188\n",
      "Fog                                         150\n",
      "Rain,Fog                                    116\n",
      "Drizzle,Fog                                  80\n",
      "Snow Showers                                 60\n",
      "Drizzle                                      41\n",
      "Snow,Fog                                     37\n",
      "Snow,Blowing Snow                            19\n",
      "Rain,Snow                                    18\n",
      "Thunderstorms,Rain Showers                   16\n",
      "Haze                                         16\n",
      "Drizzle,Snow,Fog                             15\n",
      "Freezing Rain                                14\n",
      "Freezing Drizzle,Snow                        11\n",
      "Freezing Drizzle                              7\n",
      "Snow,Ice Pellets                              6\n",
      "Freezing Drizzle,Fog                          6\n",
      "Snow,Haze                                     5\n",
      "Freezing Fog                                  4\n",
      "Snow Showers,Fog                              4\n",
      "Moderate Snow                                 4\n",
      "Rain,Snow,Ice Pellets                         4\n",
      "Freezing Rain,Fog                             4\n",
      "Freezing Drizzle,Haze                         3\n",
      "Rain,Haze                                     3\n",
      "Thunderstorms,Rain                            3\n",
      "Thunderstorms,Rain Showers,Fog                3\n",
      "Freezing Rain,Haze                            2\n",
      "Drizzle,Snow                                  2\n",
      "Rain Showers,Snow Showers                     2\n",
      "Thunderstorms                                 2\n",
      "Moderate Snow,Blowing Snow                    2\n",
      "Rain Showers,Fog                              1\n",
      "Thunderstorms,Moderate Rain Showers,Fog       1\n",
      "Snow Pellets                                  1\n",
      "Rain,Snow,Fog                                 1\n",
      "Moderate Rain,Fog                             1\n",
      "Freezing Rain,Ice Pellets,Fog                 1\n",
      "Drizzle,Ice Pellets,Fog                       1\n",
      "Thunderstorms,Rain,Fog                        1\n",
      "Rain,Ice Pellets                              1\n",
      "Rain,Snow Grains                              1\n",
      "Thunderstorms,Heavy Rain Showers              1\n",
      "Freezing Rain,Snow Grains                     1\n",
      "Name: count, dtype: int64\n"
     ]
    }
   ],
   "source": [
    "import pandas as pd\n",
    "print(a[\"Weather Condition\"].value_counts())"
   ]
  },
  {
   "cell_type": "markdown",
   "id": "3dff4dff-2b68-4fd5-9f37-68db0f277cd1",
   "metadata": {},
   "source": [
    "# Q. 10) Find all instances when 'Wind Speed is above 24' and 'Visibility is 25'."
   ]
  },
  {
   "cell_type": "code",
   "execution_count": 44,
   "id": "6fc88c9b-e05c-4c0c-a0c4-eed0da1da6b7",
   "metadata": {},
   "outputs": [
    {
     "name": "stdout",
     "output_type": "stream",
     "text": [
      "             Date/Time  Temp_C  Dew Point Temp_C  Rel Hum_%  Wind Speed_km/h  \\\n",
      "23      1/1/2012 23:00     5.3               2.0         79               30   \n",
      "24       1/2/2012 0:00     5.2               1.5         77               35   \n",
      "25       1/2/2012 1:00     4.6               0.0         72               39   \n",
      "26       1/2/2012 2:00     3.9              -0.9         71               32   \n",
      "27       1/2/2012 3:00     3.7              -1.5         69               33   \n",
      "...                ...     ...               ...        ...              ...   \n",
      "8705  12/28/2012 17:00    -8.6             -12.0         76               26   \n",
      "8753  12/30/2012 17:00   -12.1             -15.8         74               28   \n",
      "8755  12/30/2012 19:00   -13.4             -16.5         77               26   \n",
      "8759  12/30/2012 23:00   -12.1             -15.1         78               28   \n",
      "8760   12/31/2012 0:00   -11.1             -14.4         77               26   \n",
      "\n",
      "      Visibility_km  Press_kPa Weather Condition  \n",
      "23             25.0      99.31            Cloudy  \n",
      "24             25.0      99.26      Rain Showers  \n",
      "25             25.0      99.26            Cloudy  \n",
      "26             25.0      99.26     Mostly Cloudy  \n",
      "27             25.0      99.30     Mostly Cloudy  \n",
      "...             ...        ...               ...  \n",
      "8705           25.0     101.34      Mainly Clear  \n",
      "8753           25.0     101.26      Mainly Clear  \n",
      "8755           25.0     101.47      Mainly Clear  \n",
      "8759           25.0     101.52     Mostly Cloudy  \n",
      "8760           25.0     101.51            Cloudy  \n",
      "\n",
      "[308 rows x 8 columns]\n"
     ]
    }
   ],
   "source": [
    "import pandas as pd\n",
    "print(a[(a[\"Wind Speed_km/h\"]>24) & (a[\"Visibility_km\"]==25)])"
   ]
  },
  {
   "cell_type": "markdown",
   "id": "e7ee8396-8386-4510-bb91-8d71b7484fb8",
   "metadata": {},
   "source": [
    "# Q. 11) What is the Mean value of each column against each 'Weather Condition ?"
   ]
  },
  {
   "cell_type": "markdown",
   "id": "9cf9eb29-9b57-4539-9ea4-ed089f0b5c81",
   "metadata": {},
   "source": [
    "# Q. 12) What is the Minimum & Maximum value of each column against each 'Weather Condition ?"
   ]
  },
  {
   "cell_type": "code",
   "execution_count": 49,
   "id": "3a65fb76-8757-44bd-90dc-2db71603e575",
   "metadata": {},
   "outputs": [
    {
     "name": "stdout",
     "output_type": "stream",
     "text": [
      "                                                Date/Time  Temp_C  \\\n",
      "Weather Condition                                                   \n",
      "Clear                                       9/9/2012 5:00    32.8   \n",
      "Cloudy                                     9/9/2012 23:00    30.5   \n",
      "Drizzle                                    9/30/2012 3:00    18.8   \n",
      "Drizzle,Fog                                9/30/2012 2:00    19.9   \n",
      "Drizzle,Ice Pellets,Fog                   12/17/2012 9:00     0.4   \n",
      "Drizzle,Snow                             12/19/2012 18:00     1.2   \n",
      "Drizzle,Snow,Fog                          12/22/2012 3:00     1.1   \n",
      "Fog                                        9/22/2012 0:00    20.8   \n",
      "Freezing Drizzle                            2/1/2012 5:00    -2.3   \n",
      "Freezing Drizzle,Fog                      12/10/2012 5:00    -0.3   \n",
      "Freezing Drizzle,Haze                      2/1/2012 13:00    -5.0   \n",
      "Freezing Drizzle,Snow                      3/2/2012 12:00    -3.3   \n",
      "Freezing Fog                               3/17/2012 6:00    -0.1   \n",
      "Freezing Rain                               2/1/2012 7:00     0.3   \n",
      "Freezing Rain,Fog                         12/17/2012 1:00     0.1   \n",
      "Freezing Rain,Haze                         2/1/2012 15:00    -4.9   \n",
      "Freezing Rain,Ice Pellets,Fog             12/17/2012 3:00    -2.6   \n",
      "Freezing Rain,Snow Grains                  1/13/2012 9:00    -5.0   \n",
      "Haze                                      3/13/2012 23:00    14.1   \n",
      "Mainly Clear                                9/9/2012 9:00    33.0   \n",
      "Moderate Rain,Fog                         12/10/2012 8:00     1.7   \n",
      "Moderate Snow                             12/27/2012 9:00    -4.9   \n",
      "Moderate Snow,Blowing Snow               12/27/2012 12:00    -5.4   \n",
      "Mostly Cloudy                               9/9/2012 2:00    32.4   \n",
      "Rain                                        9/5/2012 2:00    22.8   \n",
      "Rain Showers                               9/8/2012 16:00    26.4   \n",
      "Rain Showers,Fog                          10/20/2012 3:00    12.8   \n",
      "Rain Showers,Snow Showers                 12/5/2012 10:00     2.2   \n",
      "Rain,Fog                                  9/30/2012 23:00    21.7   \n",
      "Rain,Haze                                  3/13/2012 9:00     5.5   \n",
      "Rain,Ice Pellets                          12/18/2012 5:00     0.6   \n",
      "Rain,Snow                                  4/23/2012 3:00     1.7   \n",
      "Rain,Snow Grains                          12/21/2012 0:00     1.9   \n",
      "Rain,Snow,Fog                             12/8/2012 21:00     0.8   \n",
      "Rain,Snow,Ice Pellets                     12/21/2012 5:00     1.3   \n",
      "Snow                                       4/27/2012 9:00     3.7   \n",
      "Snow Pellets                             11/24/2012 15:00     0.7   \n",
      "Snow Showers                               3/4/2012 21:00     2.9   \n",
      "Snow Showers,Fog                         12/29/2012 13:00   -10.0   \n",
      "Snow,Blowing Snow                          2/25/2012 9:00    -1.4   \n",
      "Snow,Fog                                  3/14/2012 19:00     1.1   \n",
      "Snow,Haze                                  2/1/2012 21:00    -3.6   \n",
      "Snow,Ice Pellets                            3/3/2012 4:00     0.8   \n",
      "Thunderstorms                              7/4/2012 16:00    26.7   \n",
      "Thunderstorms,Heavy Rain Showers           5/29/2012 6:00    10.9   \n",
      "Thunderstorms,Moderate Rain Showers,Fog    7/17/2012 6:00    19.6   \n",
      "Thunderstorms,Rain                        7/23/2012 18:00    21.3   \n",
      "Thunderstorms,Rain Showers                  9/8/2012 4:00    25.5   \n",
      "Thunderstorms,Rain Showers,Fog            7/31/2012 20:00    22.9   \n",
      "Thunderstorms,Rain,Fog                     7/17/2012 5:00    20.6   \n",
      "\n",
      "                                         Dew Point Temp_C  Rel Hum_%  \\\n",
      "Weather Condition                                                      \n",
      "Clear                                                20.4         99   \n",
      "Cloudy                                               22.6         99   \n",
      "Drizzle                                              17.7         96   \n",
      "Drizzle,Fog                                          19.1        100   \n",
      "Drizzle,Ice Pellets,Fog                              -0.7         92   \n",
      "Drizzle,Snow                                          0.2         95   \n",
      "Drizzle,Snow,Fog                                      0.6         98   \n",
      "Fog                                                  19.6        100   \n",
      "Freezing Drizzle                                     -3.3         93   \n",
      "Freezing Drizzle,Fog                                 -2.3         94   \n",
      "Freezing Drizzle,Haze                                -7.7         83   \n",
      "Freezing Drizzle,Snow                                -4.6         94   \n",
      "Freezing Fog                                         -0.3         99   \n",
      "Freezing Rain                                        -1.7         92   \n",
      "Freezing Rain,Fog                                    -0.9         93   \n",
      "Freezing Rain,Haze                                   -7.4         83   \n",
      "Freezing Rain,Ice Pellets,Fog                        -3.7         92   \n",
      "Freezing Rain,Snow Grains                            -7.3         84   \n",
      "Haze                                                 11.1         86   \n",
      "Mainly Clear                                         21.2         99   \n",
      "Moderate Rain,Fog                                     0.8         94   \n",
      "Moderate Snow                                        -6.7         93   \n",
      "Moderate Snow,Blowing Snow                           -6.4         93   \n",
      "Mostly Cloudy                                        24.4        100   \n",
      "Rain                                                 20.4         99   \n",
      "Rain Showers                                         23.0         97   \n",
      "Rain Showers,Fog                                     12.1         96   \n",
      "Rain Showers,Snow Showers                            -1.2         78   \n",
      "Rain,Fog                                             19.5        100   \n",
      "Rain,Haze                                             2.9         86   \n",
      "Rain,Ice Pellets                                     -0.6         92   \n",
      "Rain,Snow                                             0.5         94   \n",
      "Rain,Snow Grains                                     -2.1         75   \n",
      "Rain,Snow,Fog                                         0.3         96   \n",
      "Rain,Snow,Ice Pellets                                 0.1         94   \n",
      "Snow                                                  0.3         96   \n",
      "Snow Pellets                                         -6.4         59   \n",
      "Snow Showers                                         -0.7         94   \n",
      "Snow Showers,Fog                                    -11.1         92   \n",
      "Snow,Blowing Snow                                    -2.9         91   \n",
      "Snow,Fog                                              0.8         99   \n",
      "Snow,Haze                                            -6.4         81   \n",
      "Snow,Ice Pellets                                     -1.7         92   \n",
      "Thunderstorms                                        20.1         87   \n",
      "Thunderstorms,Heavy Rain Showers                      9.0         88   \n",
      "Thunderstorms,Moderate Rain Showers,Fog              18.5         93   \n",
      "Thunderstorms,Rain                                   19.1         93   \n",
      "Thunderstorms,Rain Showers                           23.1         98   \n",
      "Thunderstorms,Rain Showers,Fog                       21.3         91   \n",
      "Thunderstorms,Rain,Fog                               18.6         88   \n",
      "\n",
      "                                         Wind Speed_km/h  Visibility_km  \\\n",
      "Weather Condition                                                         \n",
      "Clear                                                 33           48.3   \n",
      "Cloudy                                                54           48.3   \n",
      "Drizzle                                               30           25.0   \n",
      "Drizzle,Fog                                           28            9.7   \n",
      "Drizzle,Ice Pellets,Fog                               20            4.0   \n",
      "Drizzle,Snow                                          19           11.3   \n",
      "Drizzle,Snow,Fog                                      32            9.7   \n",
      "Fog                                                   22            9.7   \n",
      "Freezing Drizzle                                      26           12.9   \n",
      "Freezing Drizzle,Fog                                  33            8.0   \n",
      "Freezing Drizzle,Haze                                 11            4.0   \n",
      "Freezing Drizzle,Snow                                 24           12.9   \n",
      "Freezing Fog                                           9            0.8   \n",
      "Freezing Rain                                         28           16.1   \n",
      "Freezing Rain,Fog                                     26            9.7   \n",
      "Freezing Rain,Haze                                     9            2.8   \n",
      "Freezing Rain,Ice Pellets,Fog                         28            8.0   \n",
      "Freezing Rain,Snow Grains                             32            4.8   \n",
      "Haze                                                  17            9.7   \n",
      "Mainly Clear                                          63           48.3   \n",
      "Moderate Rain,Fog                                     17            6.4   \n",
      "Moderate Snow                                         39            0.8   \n",
      "Moderate Snow,Blowing Snow                            41            0.6   \n",
      "Mostly Cloudy                                         83           48.3   \n",
      "Rain                                                  52           48.3   \n",
      "Rain Showers                                          41           48.3   \n",
      "Rain Showers,Fog                                      13            6.4   \n",
      "Rain Showers,Snow Showers                             28           24.1   \n",
      "Rain,Fog                                              46            9.7   \n",
      "Rain,Haze                                             17            9.7   \n",
      "Rain,Ice Pellets                                      24            9.7   \n",
      "Rain,Snow                                             52           25.0   \n",
      "Rain,Snow Grains                                      26           25.0   \n",
      "Rain,Snow,Fog                                          9            6.4   \n",
      "Rain,Snow,Ice Pellets                                 28            6.4   \n",
      "Snow                                                  57           25.0   \n",
      "Snow Pellets                                          35            2.4   \n",
      "Snow Showers                                          37           48.3   \n",
      "Snow Showers,Fog                                      22            9.7   \n",
      "Snow,Blowing Snow                                     48            9.7   \n",
      "Snow,Fog                                              35            9.7   \n",
      "Snow,Haze                                             15            6.4   \n",
      "Snow,Ice Pellets                                      33           11.3   \n",
      "Thunderstorms                                         15           25.0   \n",
      "Thunderstorms,Heavy Rain Showers                       9            2.4   \n",
      "Thunderstorms,Moderate Rain Showers,Fog               15            3.2   \n",
      "Thunderstorms,Rain                                    30           24.1   \n",
      "Thunderstorms,Rain Showers                            32           25.0   \n",
      "Thunderstorms,Rain Showers,Fog                        35            9.7   \n",
      "Thunderstorms,Rain,Fog                                19            4.8   \n",
      "\n",
      "                                         Press_kPa  \n",
      "Weather Condition                                   \n",
      "Clear                                       103.63  \n",
      "Cloudy                                      103.65  \n",
      "Drizzle                                     101.56  \n",
      "Drizzle,Fog                                 102.07  \n",
      "Drizzle,Ice Pellets,Fog                     100.79  \n",
      "Drizzle,Snow                                101.15  \n",
      "Drizzle,Snow,Fog                            100.15  \n",
      "Fog                                         103.04  \n",
      "Freezing Drizzle                            101.02  \n",
      "Freezing Drizzle,Fog                        101.27  \n",
      "Freezing Drizzle,Haze                       100.36  \n",
      "Freezing Drizzle,Snow                       101.18  \n",
      "Freezing Fog                                102.85  \n",
      "Freezing Rain                               101.00  \n",
      "Freezing Rain,Fog                           101.01  \n",
      "Freezing Rain,Haze                          100.41  \n",
      "Freezing Rain,Ice Pellets,Fog               100.95  \n",
      "Freezing Rain,Snow Grains                    98.56  \n",
      "Haze                                        102.97  \n",
      "Mainly Clear                                103.59  \n",
      "Moderate Rain,Fog                            99.98  \n",
      "Moderate Snow                               100.67  \n",
      "Moderate Snow,Blowing Snow                  100.64  \n",
      "Mostly Cloudy                               103.65  \n",
      "Rain                                        102.26  \n",
      "Rain Showers                                102.31  \n",
      "Rain Showers,Fog                             99.83  \n",
      "Rain Showers,Snow Showers                   101.11  \n",
      "Rain,Fog                                    101.77  \n",
      "Rain,Haze                                   100.61  \n",
      "Rain,Ice Pellets                            100.12  \n",
      "Rain,Snow                                   101.07  \n",
      "Rain,Snow Grains                            100.60  \n",
      "Rain,Snow,Fog                               100.73  \n",
      "Rain,Snow,Ice Pellets                       100.47  \n",
      "Snow                                        102.73  \n",
      "Snow Pellets                                 99.70  \n",
      "Snow Showers                                102.50  \n",
      "Snow Showers,Fog                            102.52  \n",
      "Snow,Blowing Snow                           100.62  \n",
      "Snow,Fog                                    102.07  \n",
      "Snow,Haze                                   100.99  \n",
      "Snow,Ice Pellets                            100.96  \n",
      "Thunderstorms                               100.62  \n",
      "Thunderstorms,Heavy Rain Showers            100.26  \n",
      "Thunderstorms,Moderate Rain Showers,Fog     100.01  \n",
      "Thunderstorms,Rain                          100.83  \n",
      "Thunderstorms,Rain Showers                  101.06  \n",
      "Thunderstorms,Rain Showers,Fog              100.64  \n",
      "Thunderstorms,Rain,Fog                      100.08  \n",
      "                                                Date/Time  Temp_C  \\\n",
      "Weather Condition                                                   \n",
      "Clear                                      1/11/2012 1:00   -23.3   \n",
      "Cloudy                                     1/1/2012 17:00   -21.4   \n",
      "Drizzle                                   1/23/2012 21:00     1.1   \n",
      "Drizzle,Fog                               1/23/2012 20:00     0.0   \n",
      "Drizzle,Ice Pellets,Fog                   12/17/2012 9:00     0.4   \n",
      "Drizzle,Snow                             12/17/2012 15:00     0.9   \n",
      "Drizzle,Snow,Fog                         12/18/2012 21:00     0.3   \n",
      "Fog                                         1/1/2012 0:00   -16.0   \n",
      "Freezing Drizzle                          1/13/2012 10:00    -9.0   \n",
      "Freezing Drizzle,Fog                        1/1/2012 2:00    -6.4   \n",
      "Freezing Drizzle,Haze                      2/1/2012 11:00    -5.8   \n",
      "Freezing Drizzle,Snow                      1/13/2012 3:00    -8.3   \n",
      "Freezing Fog                               1/22/2012 6:00   -19.0   \n",
      "Freezing Rain                             1/13/2012 11:00    -6.5   \n",
      "Freezing Rain,Fog                         1/17/2012 23:00    -6.1   \n",
      "Freezing Rain,Haze                         2/1/2012 14:00    -4.9   \n",
      "Freezing Rain,Ice Pellets,Fog             12/17/2012 3:00    -2.6   \n",
      "Freezing Rain,Snow Grains                  1/13/2012 9:00    -5.0   \n",
      "Haze                                      1/22/2012 12:00   -11.5   \n",
      "Mainly Clear                              1/10/2012 11:00   -22.8   \n",
      "Moderate Rain,Fog                         12/10/2012 8:00     1.7   \n",
      "Moderate Snow                             1/12/2012 15:00    -6.3   \n",
      "Moderate Snow,Blowing Snow               12/27/2012 10:00    -5.5   \n",
      "Mostly Cloudy                              1/1/2012 16:00   -23.2   \n",
      "Rain                                       1/1/2012 18:00     0.3   \n",
      "Rain Showers                               1/1/2012 22:00     1.6   \n",
      "Rain Showers,Fog                          10/20/2012 3:00    12.8   \n",
      "Rain Showers,Snow Showers                  11/4/2012 8:00     2.1   \n",
      "Rain,Fog                                  1/23/2012 18:00     0.0   \n",
      "Rain,Haze                                  3/13/2012 7:00     4.0   \n",
      "Rain,Ice Pellets                          12/18/2012 5:00     0.6   \n",
      "Rain,Snow                                  1/10/2012 5:00     0.6   \n",
      "Rain,Snow Grains                          12/21/2012 0:00     1.9   \n",
      "Rain,Snow,Fog                             12/8/2012 21:00     0.8   \n",
      "Rain,Snow,Ice Pellets                     12/21/2012 1:00     0.9   \n",
      "Snow                                       1/10/2012 1:00   -16.7   \n",
      "Snow Pellets                             11/24/2012 15:00     0.7   \n",
      "Snow Showers                               1/12/2012 7:00   -13.3   \n",
      "Snow Showers,Fog                          12/26/2012 9:00   -11.3   \n",
      "Snow,Blowing Snow                         1/13/2012 21:00   -12.0   \n",
      "Snow,Fog                                 12/16/2012 15:00   -10.1   \n",
      "Snow,Haze                                  2/1/2012 17:00    -4.3   \n",
      "Snow,Ice Pellets                          12/10/2012 3:00    -4.3   \n",
      "Thunderstorms                              7/16/2012 1:00    21.6   \n",
      "Thunderstorms,Heavy Rain Showers           5/29/2012 6:00    10.9   \n",
      "Thunderstorms,Moderate Rain Showers,Fog    7/17/2012 6:00    19.6   \n",
      "Thunderstorms,Rain                        5/25/2012 20:00    19.4   \n",
      "Thunderstorms,Rain Showers                5/29/2012 16:00    11.0   \n",
      "Thunderstorms,Rain Showers,Fog             6/29/2012 3:00    19.5   \n",
      "Thunderstorms,Rain,Fog                     7/17/2012 5:00    20.6   \n",
      "\n",
      "                                         Dew Point Temp_C  Rel Hum_%  \\\n",
      "Weather Condition                                                      \n",
      "Clear                                               -28.5         20   \n",
      "Cloudy                                              -26.8         18   \n",
      "Drizzle                                              -0.2         74   \n",
      "Drizzle,Fog                                          -1.6         85   \n",
      "Drizzle,Ice Pellets,Fog                              -0.7         92   \n",
      "Drizzle,Snow                                          0.1         92   \n",
      "Drizzle,Snow,Fog                                     -0.1         92   \n",
      "Fog                                                 -17.2         80   \n",
      "Freezing Drizzle                                    -12.2         78   \n",
      "Freezing Drizzle,Fog                                 -9.0         82   \n",
      "Freezing Drizzle,Haze                                -8.3         81   \n",
      "Freezing Drizzle,Snow                               -10.4         79   \n",
      "Freezing Fog                                        -22.9         71   \n",
      "Freezing Rain                                        -9.0         81   \n",
      "Freezing Rain,Fog                                    -8.7         82   \n",
      "Freezing Rain,Haze                                   -7.5         82   \n",
      "Freezing Rain,Ice Pellets,Fog                        -3.7         92   \n",
      "Freezing Rain,Snow Grains                            -7.3         84   \n",
      "Haze                                                -16.0         68   \n",
      "Mainly Clear                                        -28.0         20   \n",
      "Moderate Rain,Fog                                     0.8         94   \n",
      "Moderate Snow                                        -7.6         83   \n",
      "Moderate Snow,Blowing Snow                           -6.6         92   \n",
      "Mostly Cloudy                                       -28.5         18   \n",
      "Rain                                                 -5.7         40   \n",
      "Rain Showers                                         -7.2         37   \n",
      "Rain Showers,Fog                                     12.1         96   \n",
      "Rain Showers,Snow Showers                            -1.8         75   \n",
      "Rain,Fog                                             -1.2         83   \n",
      "Rain,Haze                                             1.0         81   \n",
      "Rain,Ice Pellets                                     -0.6         92   \n",
      "Rain,Snow                                            -1.7         81   \n",
      "Rain,Snow Grains                                     -2.1         75   \n",
      "Rain,Snow,Fog                                         0.3         96   \n",
      "Rain,Snow,Ice Pellets                                -0.7         88   \n",
      "Snow                                                -24.6         41   \n",
      "Snow Pellets                                         -6.4         59   \n",
      "Snow Showers                                        -19.3         52   \n",
      "Snow Showers,Fog                                    -12.7         89   \n",
      "Snow,Blowing Snow                                   -16.2         70   \n",
      "Snow,Fog                                            -12.0         77   \n",
      "Snow,Haze                                            -7.2         80   \n",
      "Snow,Ice Pellets                                     -5.9         76   \n",
      "Thunderstorms                                        19.4         67   \n",
      "Thunderstorms,Heavy Rain Showers                      9.0         88   \n",
      "Thunderstorms,Moderate Rain Showers,Fog              18.5         93   \n",
      "Thunderstorms,Rain                                   18.2         83   \n",
      "Thunderstorms,Rain Showers                            7.0         68   \n",
      "Thunderstorms,Rain Showers,Fog                       16.1         80   \n",
      "Thunderstorms,Rain,Fog                               18.6         88   \n",
      "\n",
      "                                         Wind Speed_km/h  Visibility_km  \\\n",
      "Weather Condition                                                         \n",
      "Clear                                                  0           11.3   \n",
      "Cloudy                                                 0           11.3   \n",
      "Drizzle                                                0            6.4   \n",
      "Drizzle,Fog                                            0            1.0   \n",
      "Drizzle,Ice Pellets,Fog                               20            4.0   \n",
      "Drizzle,Snow                                           9            9.7   \n",
      "Drizzle,Snow,Fog                                       7            2.4   \n",
      "Fog                                                    0            0.2   \n",
      "Freezing Drizzle                                       6            4.8   \n",
      "Freezing Drizzle,Fog                                   6            3.6   \n",
      "Freezing Drizzle,Haze                                  9            2.0   \n",
      "Freezing Drizzle,Snow                                  6            2.4   \n",
      "Freezing Fog                                           0            0.2   \n",
      "Freezing Rain                                          7            2.8   \n",
      "Freezing Rain,Fog                                      7            2.8   \n",
      "Freezing Rain,Haze                                     6            2.0   \n",
      "Freezing Rain,Ice Pellets,Fog                         28            8.0   \n",
      "Freezing Rain,Snow Grains                             32            4.8   \n",
      "Haze                                                   0            4.8   \n",
      "Mainly Clear                                           0           12.9   \n",
      "Moderate Rain,Fog                                     17            6.4   \n",
      "Moderate Snow                                         26            0.6   \n",
      "Moderate Snow,Blowing Snow                            39            0.6   \n",
      "Mostly Cloudy                                          0           11.3   \n",
      "Rain                                                   0            4.0   \n",
      "Rain Showers                                           0            6.4   \n",
      "Rain Showers,Fog                                      13            6.4   \n",
      "Rain Showers,Snow Showers                             17           19.3   \n",
      "Rain,Fog                                               0            2.0   \n",
      "Rain,Haze                                              7            4.0   \n",
      "Rain,Ice Pellets                                      24            9.7   \n",
      "Rain,Snow                                             13            2.4   \n",
      "Rain,Snow Grains                                      26           25.0   \n",
      "Rain,Snow,Fog                                          9            6.4   \n",
      "Rain,Snow,Ice Pellets                                 17            4.8   \n",
      "Snow                                                   0            1.0   \n",
      "Snow Pellets                                          35            2.4   \n",
      "Snow Showers                                           0            2.4   \n",
      "Snow Showers,Fog                                       7            4.0   \n",
      "Snow,Blowing Snow                                     24            0.6   \n",
      "Snow,Fog                                               4            1.2   \n",
      "Snow,Haze                                              0            4.0   \n",
      "Snow,Ice Pellets                                      19            2.8   \n",
      "Thunderstorms                                          0           24.1   \n",
      "Thunderstorms,Heavy Rain Showers                       9            2.4   \n",
      "Thunderstorms,Moderate Rain Showers,Fog               15            3.2   \n",
      "Thunderstorms,Rain                                     4           16.1   \n",
      "Thunderstorms,Rain Showers                             7            6.4   \n",
      "Thunderstorms,Rain Showers,Fog                         7            9.7   \n",
      "Thunderstorms,Rain,Fog                                19            4.8   \n",
      "\n",
      "                                         Press_kPa  \n",
      "Weather Condition                                   \n",
      "Clear                                        99.52  \n",
      "Cloudy                                       98.39  \n",
      "Drizzle                                      97.84  \n",
      "Drizzle,Fog                                  98.65  \n",
      "Drizzle,Ice Pellets,Fog                     100.79  \n",
      "Drizzle,Snow                                100.63  \n",
      "Drizzle,Snow,Fog                             97.79  \n",
      "Fog                                          98.31  \n",
      "Freezing Drizzle                             98.44  \n",
      "Freezing Drizzle,Fog                         98.74  \n",
      "Freezing Drizzle,Haze                       100.28  \n",
      "Freezing Drizzle,Snow                        99.19  \n",
      "Freezing Fog                                101.97  \n",
      "Freezing Rain                                98.22  \n",
      "Freezing Rain,Fog                            98.32  \n",
      "Freezing Rain,Haze                          100.34  \n",
      "Freezing Rain,Ice Pellets,Fog               100.95  \n",
      "Freezing Rain,Snow Grains                    98.56  \n",
      "Haze                                        100.35  \n",
      "Mainly Clear                                 98.67  \n",
      "Moderate Rain,Fog                            99.98  \n",
      "Moderate Snow                                99.88  \n",
      "Moderate Snow,Blowing Snow                  100.50  \n",
      "Mostly Cloudy                                98.36  \n",
      "Rain                                         97.52  \n",
      "Rain Showers                                 98.51  \n",
      "Rain Showers,Fog                             99.83  \n",
      "Rain Showers,Snow Showers                   101.09  \n",
      "Rain,Fog                                     98.61  \n",
      "Rain,Haze                                   100.50  \n",
      "Rain,Ice Pellets                            100.12  \n",
      "Rain,Snow                                    98.18  \n",
      "Rain,Snow Grains                            100.60  \n",
      "Rain,Snow,Fog                               100.73  \n",
      "Rain,Snow,Ice Pellets                        99.85  \n",
      "Snow                                         97.75  \n",
      "Snow Pellets                                 99.70  \n",
      "Snow Showers                                 99.49  \n",
      "Snow Showers,Fog                            100.63  \n",
      "Snow,Blowing Snow                            98.11  \n",
      "Snow,Fog                                     99.38  \n",
      "Snow,Haze                                   100.61  \n",
      "Snow,Ice Pellets                             99.40  \n",
      "Thunderstorms                                99.84  \n",
      "Thunderstorms,Heavy Rain Showers            100.26  \n",
      "Thunderstorms,Moderate Rain Showers,Fog     100.01  \n",
      "Thunderstorms,Rain                          100.19  \n",
      "Thunderstorms,Rain Showers                   99.65  \n",
      "Thunderstorms,Rain Showers,Fog               99.71  \n",
      "Thunderstorms,Rain,Fog                      100.08  \n"
     ]
    }
   ],
   "source": [
    "import pandas as pd\n",
    "print(a.groupby(\"Weather Condition\").max())\n",
    "print(a.groupby(\"Weather Condition\").min())"
   ]
  },
  {
   "cell_type": "markdown",
   "id": "9b304706-0264-4d3c-8c2d-7ecd21a110e9",
   "metadata": {},
   "source": [
    "# Q. 13) Show all the Records where Weather Condition is Fog."
   ]
  },
  {
   "cell_type": "code",
   "execution_count": 57,
   "id": "3bef7334-7e1c-4242-84e8-fe8e44ba8685",
   "metadata": {},
   "outputs": [
    {
     "name": "stdout",
     "output_type": "stream",
     "text": [
      "0        True\n",
      "1        True\n",
      "2       False\n",
      "3       False\n",
      "4        True\n",
      "        ...  \n",
      "8779    False\n",
      "8780    False\n",
      "8781    False\n",
      "8782    False\n",
      "8783    False\n",
      "Name: Weather Condition, Length: 8784, dtype: bool\n"
     ]
    }
   ],
   "source": [
    "import pandas as pd\n",
    "print (a[\"Weather Condition\"]==\"Fog\")"
   ]
  },
  {
   "cell_type": "markdown",
   "id": "cbe33b84-32bd-4fd9-98dc-e2df22be4f23",
   "metadata": {},
   "source": [
    "# Q. 14) Find all instances when 'Weather is Clear' or 'Visibility is above 40'."
   ]
  },
  {
   "cell_type": "code",
   "execution_count": 65,
   "id": "b821892a-75c8-4746-be6a-2a29aeea4ce5",
   "metadata": {},
   "outputs": [
    {
     "name": "stdout",
     "output_type": "stream",
     "text": [
      "             Date/Time  Temp_C  Dew Point Temp_C  Rel Hum_%  Wind Speed_km/h  \\\n",
      "351    1/15/2012 15:00   -15.4             -22.8         53               24   \n",
      "352    1/15/2012 16:00   -15.1             -22.8         52               24   \n",
      "425    1/18/2012 17:00   -11.3             -18.8         54               26   \n",
      "440     1/19/2012 8:00   -13.7             -18.4         68               19   \n",
      "441     1/19/2012 9:00   -12.7             -17.2         69               17   \n",
      "...                ...     ...               ...        ...              ...   \n",
      "8384   12/15/2012 8:00   -10.7             -15.6         67               13   \n",
      "8385   12/15/2012 9:00   -10.4             -15.9         64               19   \n",
      "8389  12/15/2012 13:00    -8.4             -14.7         60               19   \n",
      "8631  12/25/2012 15:00    -7.1             -13.7         59               17   \n",
      "8632  12/25/2012 16:00    -7.5             -13.9         60               11   \n",
      "\n",
      "      Visibility_km  Press_kPa Weather Condition  \n",
      "351            48.3     102.71             Clear  \n",
      "352            48.3     102.79             Clear  \n",
      "425            48.3     101.54             Clear  \n",
      "440            48.3     101.84             Clear  \n",
      "441            48.3     101.73             Clear  \n",
      "...             ...        ...               ...  \n",
      "8384           48.3     102.69             Clear  \n",
      "8385           48.3     102.74             Clear  \n",
      "8389           48.3     102.64             Clear  \n",
      "8631           48.3     101.98             Clear  \n",
      "8632           48.3     102.03             Clear  \n",
      "\n",
      "[313 rows x 8 columns]\n"
     ]
    }
   ],
   "source": [
    "import pandas as pd\n",
    "print(a[(a[\"Weather Condition\"]==\"Clear\") & (a[\"Visibility_km\"]>40)])"
   ]
  },
  {
   "cell_type": "markdown",
   "id": "a0fb9ddc-5425-4497-9c7d-212ab5f1ac05",
   "metadata": {},
   "source": [
    "# Q. 15) Find all instances when :A. 'Weather is Clear' and 'Relative Humidity is greater than 50'or B. 'Visibility is above 40'"
   ]
  },
  {
   "cell_type": "code",
   "execution_count": 66,
   "id": "57894a2d-8ce3-4b40-b5e6-baca51e3f817",
   "metadata": {},
   "outputs": [
    {
     "name": "stdout",
     "output_type": "stream",
     "text": [
      "             Date/Time  Temp_C  Dew Point Temp_C  Rel Hum_%  Wind Speed_km/h  \\\n",
      "106     1/5/2012 10:00    -6.0             -10.0         73               17   \n",
      "107     1/5/2012 11:00    -5.6             -10.2         70               22   \n",
      "108     1/5/2012 12:00    -4.7              -9.6         69               20   \n",
      "109     1/5/2012 13:00    -4.4              -9.7         66               26   \n",
      "110     1/5/2012 14:00    -5.1             -10.7         65               22   \n",
      "...                ...     ...               ...        ...              ...   \n",
      "8749  12/30/2012 13:00   -12.4             -16.2         73               37   \n",
      "8750  12/30/2012 14:00   -11.8             -16.1         70               37   \n",
      "8751  12/30/2012 15:00   -11.3             -15.6         70               32   \n",
      "8752  12/30/2012 16:00   -11.4             -15.5         72               26   \n",
      "8756  12/30/2012 20:00   -13.8             -16.5         80               24   \n",
      "\n",
      "      Visibility_km  Press_kPa Weather Condition  \n",
      "106            48.3     100.45      Mainly Clear  \n",
      "107            48.3     100.41      Mainly Clear  \n",
      "108            48.3     100.38      Mainly Clear  \n",
      "109            48.3     100.40      Mainly Clear  \n",
      "110            48.3     100.46      Mainly Clear  \n",
      "...             ...        ...               ...  \n",
      "8749           48.3     100.92     Mostly Cloudy  \n",
      "8750           48.3     100.96      Mainly Clear  \n",
      "8751           48.3     101.05      Mainly Clear  \n",
      "8752           48.3     101.15      Mainly Clear  \n",
      "8756           25.0     101.52             Clear  \n",
      "\n",
      "[2921 rows x 8 columns]\n"
     ]
    }
   ],
   "source": [
    "import pandas as pd\n",
    "print(a[(a[\"Weather Condition\"]==\"Clear\") & (a[\"Rel Hum_%\"]>50) | (a[\"Visibility_km\"]>40)])"
   ]
  },
  {
   "cell_type": "code",
   "execution_count": 12,
   "id": "22d88b1f-7c13-49e2-87ac-b85a231906ba",
   "metadata": {},
   "outputs": [
    {
     "data": {
      "image/png": "[encoded data removed]",
      "text/plain": [
       "<Figure size 640x480 with 1 Axes>"
      ]
     },
     "metadata": {},
     "output_type": "display_data"
    }
   ],
   "source": [
    "import pandas as pd\n",
    "import matplotlib.pyplot as plt\n",
    "import seaborn as sns\n",
    "a=pd.read_csv(\"C:\\\\Users\\\\rohan\\\\Downloads\\\\file.csv\")\n",
    "sns.barplot(x=\"Wind Speed_km/h\",y=\"Temp_C\",data=a)\n",
    "plt.show()"
   ]
  },
  {
   "cell_type": "code",
   "execution_count": null,
   "id": "f33caa5a-eeaa-414b-9f61-1f8e2e86341a",
   "metadata": {},
   "outputs": [],
   "source": []
  }
 ],
 "metadata": {
  "kernelspec": {
   "display_name": "Python 3 (ipykernel)",
   "language": "python",
   "name": "python3"
  },
  "language_info": {
   "codemirror_mode": {
    "name": "ipython",
    "version": 3
   },
   "file_extension": ".py",
   "mimetype": "text/x-python",
   "name": "python",
   "nbconvert_exporter": "python",
   "pygments_lexer": "ipython3",
   "version": "3.12.7"
  }
 },
 "nbformat": 4,
 "nbformat_minor": 5
}
