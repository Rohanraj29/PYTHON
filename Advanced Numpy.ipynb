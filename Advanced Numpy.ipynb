{
 "cells": [
  {
   "cell_type": "markdown",
   "id": "203a8923-f218-413b-bc3f-9d0a7f9baa33",
   "metadata": {},
   "source": [
    "# ADVANCED NUMPY\n",
    "\n",
    "# FANCY INDEXING:- IT ALLOW US TO ACCESS A MULTIPLE ARRAY ELEMENTS AT ONCE USING INDEX."
   ]
  },
  {
   "cell_type": "code",
   "execution_count": 1,
   "id": "da5b0ca2-8281-4c46-ae1f-26152d9334f4",
   "metadata": {},
   "outputs": [
    {
     "name": "stdout",
     "output_type": "stream",
     "text": [
      "[[ 0  1  2]\n",
      " [ 3  4  5]\n",
      " [ 6  7  8]\n",
      " [ 9 10 11]]\n"
     ]
    }
   ],
   "source": [
    "import numpy as np\n",
    "a=np.arange(12).reshape(4,3)\n",
    "print(a)"
   ]
  },
  {
   "cell_type": "code",
   "execution_count": 2,
   "id": "09d748d3-700a-40d3-bdcc-9d17c719b359",
   "metadata": {},
   "outputs": [
    {
     "data": {
      "text/plain": [
       "array([[ 0,  1,  2],\n",
       "       [ 6,  7,  8],\n",
       "       [ 9, 10, 11]])"
      ]
     },
     "execution_count": 2,
     "metadata": {},
     "output_type": "execute_result"
    }
   ],
   "source": [
    "a[[0,2,3]]"
   ]
  },
  {
   "cell_type": "code",
   "execution_count": 7,
   "id": "a03fadaa-8588-4e87-8dd8-b926d7bf5e7a",
   "metadata": {},
   "outputs": [
    {
     "data": {
      "text/plain": [
       "array([[ 1,  2],\n",
       "       [ 4,  5],\n",
       "       [ 7,  8],\n",
       "       [10, 11]])"
      ]
     },
     "execution_count": 7,
     "metadata": {},
     "output_type": "execute_result"
    }
   ],
   "source": [
    "a[:,[1,2]]"
   ]
  },
  {
   "cell_type": "code",
   "execution_count": 9,
   "id": "310b4d9f-cf73-4b0e-adb7-1d16e461f85f",
   "metadata": {},
   "outputs": [
    {
     "data": {
      "text/plain": [
       "array([[ 1,  2],\n",
       "       [ 4,  5],\n",
       "       [ 7,  8],\n",
       "       [10, 11]])"
      ]
     },
     "execution_count": 9,
     "metadata": {},
     "output_type": "execute_result"
    }
   ],
   "source": [
    "a[0:4,1:3]"
   ]
  },
  {
   "cell_type": "markdown",
   "id": "b7b1869f-d1b8-4ced-a489-bc743288318e",
   "metadata": {},
   "source": [
    "# BOOLEAN INDEXING\n",
    "\n",
    "# IT CAN BE USED WHEN WE WANT TO ACCESS ELEMENT FROM AN ARRAY BASED ON SOME CONDITION ."
   ]
  },
  {
   "cell_type": "code",
   "execution_count": 10,
   "id": "00d82a4f-61fe-4f80-a6dd-7deca8221c8a",
   "metadata": {},
   "outputs": [
    {
     "data": {
      "text/plain": [
       "array([[ 9, 73, 36, 82],\n",
       "       [20, 88, 62, 25],\n",
       "       [38, 81, 93,  7],\n",
       "       [11, 16, 27, 53],\n",
       "       [ 0, 37, 48, 16],\n",
       "       [ 1, 54, 84, 33]])"
      ]
     },
     "execution_count": 10,
     "metadata": {},
     "output_type": "execute_result"
    }
   ],
   "source": [
    "import numpy as np\n",
    "import random\n",
    "a=np.random.randint(0,100,24).reshape(6,4)\n",
    "a"
   ]
  },
  {
   "cell_type": "markdown",
   "id": "620daeb8-7083-42f4-9a23-f875bae22ee9",
   "metadata": {},
   "source": [
    "# FIND ALL THE NUMBER WHICH ARE GREATER THEN 50."
   ]
  },
  {
   "cell_type": "code",
   "execution_count": 12,
   "id": "2056a59c-de1f-42ea-b60b-3986f1f92f9b",
   "metadata": {},
   "outputs": [
    {
     "data": {
      "text/plain": [
       "array([73, 82, 88, 62, 81, 93, 53, 54, 84])"
      ]
     },
     "execution_count": 12,
     "metadata": {},
     "output_type": "execute_result"
    }
   ],
   "source": [
    "a[a>50]"
   ]
  },
  {
   "cell_type": "markdown",
   "id": "3a7c12e5-4ce5-4946-b686-56fc848c500a",
   "metadata": {},
   "source": [
    "# FIND ALL THE NUMBER WHICH ARE GREATER THEN 50 AND DIVISIBLE BY 2."
   ]
  },
  {
   "cell_type": "code",
   "execution_count": null,
   "id": "f77a3913-c898-4faa-aa90-016299b77a0d",
   "metadata": {},
   "outputs": [],
   "source": [
    "a[a>50 & a%2==0]"
   ]
  },
  {
   "cell_type": "markdown",
   "id": "735acaa7-1eb5-4868-907b-a383fa778e9b",
   "metadata": {},
   "source": [
    "# FIND ALL THE NUMBER WHICH ARE NOT DIVISIBLE BY 4."
   ]
  },
  {
   "cell_type": "code",
   "execution_count": 32,
   "id": "dd515217-c7db-4899-ba75-3179ed4ff2c1",
   "metadata": {},
   "outputs": [
    {
     "data": {
      "text/plain": [
       "array([ 2.,  6., nan, 10.])"
      ]
     },
     "execution_count": 32,
     "metadata": {},
     "output_type": "execute_result"
    }
   ],
   "source": [
    "a[a%4!=0]"
   ]
  },
  {
   "cell_type": "markdown",
   "id": "b80a9560-b726-47af-a0f5-968591779eff",
   "metadata": {},
   "source": [
    "# BROADCASTING \n",
    "\n",
    "# IT MEANS HOW NUMPY CAN TREAT ARRAY OF TWO DIFFERENT SHAPES DURING ARITHMETIC OPERATIONS."
   ]
  },
  {
   "cell_type": "code",
   "execution_count": 24,
   "id": "b5d1edc7-6e76-42d0-8a17-1603d4776a15",
   "metadata": {},
   "outputs": [
    {
     "name": "stdout",
     "output_type": "stream",
     "text": [
      "[[10 21 32]\n",
      " [13 24 35]\n",
      " [16 27 38]\n",
      " [19 30 41]]\n"
     ]
    }
   ],
   "source": [
    "import numpy as np\n",
    "import random\n",
    "a=np.arange(0,12).reshape(4,3)\n",
    "b=np.array([10,20,30])\n",
    "print(a+b)"
   ]
  },
  {
   "cell_type": "markdown",
   "id": "93f598c1-b66b-4dc6-b7de-1e7aa3841add",
   "metadata": {},
   "source": [
    "# WORKING WITH MISSING VALUES IN NUMPY ARRAY."
   ]
  },
  {
   "cell_type": "code",
   "execution_count": 25,
   "id": "c55ea5b8-de2d-42a7-86df-6cace09f1abc",
   "metadata": {},
   "outputs": [
    {
     "data": {
      "text/plain": [
       "array([ 2.,  4.,  6.,  8., nan, 10.])"
      ]
     },
     "execution_count": 25,
     "metadata": {},
     "output_type": "execute_result"
    }
   ],
   "source": [
    "import numpy as np\n",
    "a=np.array([2,4,6,8,np.nan,10])\n",
    "a"
   ]
  },
  {
   "cell_type": "code",
   "execution_count": 28,
   "id": "425077a9-73d8-4528-b5bf-0fd4be1d615a",
   "metadata": {},
   "outputs": [
    {
     "data": {
      "text/plain": [
       "array([ 2.,  4.,  6.,  8., 10.])"
      ]
     },
     "execution_count": 28,
     "metadata": {},
     "output_type": "execute_result"
    }
   ],
   "source": [
    "a[~np.isnan(a)]"
   ]
  },
  {
   "cell_type": "markdown",
   "id": "ae3d9782-cbb6-407c-b3d6-d67078333edd",
   "metadata": {},
   "source": [
    "# STRING FUNCTION IN NUMPY ARRAY\n",
    "# 1. ADD"
   ]
  },
  {
   "cell_type": "code",
   "execution_count": 34,
   "id": "af47ff42-251b-404f-bb7a-2082d126307c",
   "metadata": {},
   "outputs": [
    {
     "name": "stdout",
     "output_type": "stream",
     "text": [
      "['name Rahul Raj' 'city Muzaffarpur']\n"
     ]
    }
   ],
   "source": [
    "import numpy as np\n",
    "a=np.array([\"name\",\"city\"])\n",
    "b=np.array([\" Rahul Raj\",\" Muzaffarpur\"])\n",
    "add=np.char.add(a,b)\n",
    "print(add)"
   ]
  },
  {
   "cell_type": "markdown",
   "id": "1444fbe5-2bc7-4360-a443-68e0dbe77f08",
   "metadata": {},
   "source": [
    "# 2. MULTIPLY"
   ]
  },
  {
   "cell_type": "code",
   "execution_count": 36,
   "id": "0d39e8d3-f6ba-42fc-9f9a-a1c9e3053b96",
   "metadata": {},
   "outputs": [
    {
     "name": "stdout",
     "output_type": "stream",
     "text": [
      "[' Rahul Raj Rahul Raj Rahul Raj Rahul Raj'\n",
      " ' Muzaffarpur Muzaffarpur Muzaffarpur Muzaffarpur']\n"
     ]
    }
   ],
   "source": [
    "import numpy as np\n",
    "a=np.array([\" Rahul Raj\",\" Muzaffarpur\"])\n",
    "multiply=np.char.multiply(a,4)\n",
    "print(multiply)"
   ]
  },
  {
   "cell_type": "markdown",
   "id": "b9f6b866-02f4-411a-990a-a66275ce53a4",
   "metadata": {},
   "source": [
    "# LOWER"
   ]
  },
  {
   "cell_type": "code",
   "execution_count": 37,
   "id": "6ece4888-af64-4a96-8b56-b93017d541cd",
   "metadata": {},
   "outputs": [
    {
     "name": "stdout",
     "output_type": "stream",
     "text": [
      "[' rahul raj' ' muzaffarpur']\n"
     ]
    }
   ],
   "source": [
    "import numpy as np\n",
    "a=np.array([\" Rahul Raj\",\" Muzaffarpur\"])\n",
    "lower=np.char.lower(a)\n",
    "print(lower)"
   ]
  },
  {
   "cell_type": "markdown",
   "id": "a272996a-10ad-49e9-afeb-f1ca4db5f1da",
   "metadata": {},
   "source": [
    "# UPPER"
   ]
  },
  {
   "cell_type": "code",
   "execution_count": 39,
   "id": "5a07cbba-ade2-4129-83ae-fe26ea37aab1",
   "metadata": {},
   "outputs": [
    {
     "name": "stdout",
     "output_type": "stream",
     "text": [
      "[' RAHUL RAJ' ' MUZAFFARPUR']\n"
     ]
    }
   ],
   "source": [
    "import numpy as np\n",
    "a=np.array([\" Rahul Raj\",\" Muzaffarpur\"])\n",
    "upper=np.char.upper(a)\n",
    "print(upper)"
   ]
  },
  {
   "cell_type": "markdown",
   "id": "4bf0007b-0a78-4777-b9fa-d316e1ccbf16",
   "metadata": {},
   "source": [
    "# EQUAL"
   ]
  },
  {
   "cell_type": "code",
   "execution_count": 41,
   "id": "13e9aadd-1487-41ae-8a37-7e1b3c6d8b23",
   "metadata": {},
   "outputs": [
    {
     "name": "stdout",
     "output_type": "stream",
     "text": [
      "[ True  True]\n"
     ]
    }
   ],
   "source": [
    "import numpy as np\n",
    "a=np.array([\"Rahul\",\"Rohan\"])\n",
    "b=np.array([\"Rahul\",\"Rohan\"])\n",
    "equal=np.char.equal(a,b)\n",
    "print(equal)"
   ]
  },
  {
   "cell_type": "markdown",
   "id": "4bb05ab0-6e46-4a1d-89db-857629872107",
   "metadata": {},
   "source": [
    "# DATA VISUALIZATION USING NUMPY"
   ]
  },
  {
   "cell_type": "code",
   "execution_count": 51,
   "id": "6c6a76a7-3405-4188-8849-678d504d75b9",
   "metadata": {},
   "outputs": [
    {
     "data": {
      "text/plain": [
       "array([ 4,  8, 12, 16, 20, 24])"
      ]
     },
     "execution_count": 51,
     "metadata": {},
     "output_type": "execute_result"
    },
    {
     "data": {
      "image/png": "[encoded data removed]",
      "text/plain": [
       "<Figure size 640x480 with 1 Axes>"
      ]
     },
     "metadata": {},
     "output_type": "display_data"
    }
   ],
   "source": [
    "import numpy as np\n",
    "import matplotlib.pyplot as plt\n",
    "cars=([\"Caterham\", \"Tesla\", \"Audi\",  \"BMW\", \"Ford\", \"Jeep\"])\n",
    "weight=np.arange(1,25)\n",
    "f=weight[weight%4==0]\n",
    "plt.bar(cars,f)\n",
    "f"
   ]
  },
  {
   "cell_type": "code",
   "execution_count": 57,
   "id": "4e58cb03-3911-4015-b0ea-1e294e5f9c18",
   "metadata": {},
   "outputs": [
    {
     "data": {
      "image/png": "[encoded data removed]",
      "text/plain": [
       "<Figure size 640x480 with 1 Axes>"
      ]
     },
     "metadata": {},
     "output_type": "display_data"
    },
    {
     "data": {
      "text/plain": [
       "array([12, 14, 19, 11, 12,  8])"
      ]
     },
     "execution_count": 57,
     "metadata": {},
     "output_type": "execute_result"
    }
   ],
   "source": [
    "import numpy as np\n",
    "import random\n",
    "import matplotlib.pyplot as plt\n",
    "cars=([\"Caterham\", \"Tesla\", \"Audi\",  \"BMW\", \"Ford\", \"Jeep\"])\n",
    "a=np.random.randint(8,20,6)\n",
    "price=a**2\n",
    "plt.scatter(cars,price)\n",
    "plt.show()"
   ]
  },
  {
   "cell_type": "code",
   "execution_count": null,
   "id": "55db6582-a996-406e-b0be-50373b7a151e",
   "metadata": {},
   "outputs": [],
   "source": []
  }
 ],
 "metadata": {
  "kernelspec": {
   "display_name": "Python 3 (ipykernel)",
   "language": "python",
   "name": "python3"
  },
  "language_info": {
   "codemirror_mode": {
    "name": "ipython",
    "version": 3
   },
   "file_extension": ".py",
   "mimetype": "text/x-python",
   "name": "python",
   "nbconvert_exporter": "python",
   "pygments_lexer": "ipython3",
   "version": "3.12.7"
  }
 },
 "nbformat": 4,
 "nbformat_minor": 5
}
