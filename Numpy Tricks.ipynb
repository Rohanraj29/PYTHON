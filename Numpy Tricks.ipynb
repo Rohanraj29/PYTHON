{
 "cells": [
  {
   "cell_type": "markdown",
   "id": "6d0a87c8-bfe8-4668-90a0-a66297919a95",
   "metadata": {},
   "source": [
    "# NUMPY TRICKS"
   ]
  },
  {
   "cell_type": "markdown",
   "id": "f72f7c9d-9339-4763-973a-fe79a214d754",
   "metadata": {},
   "source": [
    "# np.expand_dims() :- with the help of this function we can change the dimension of an array."
   ]
  },
  {
   "cell_type": "code",
   "execution_count": 3,
   "id": "102c27bd-8d15-4540-8bc4-b77b50759053",
   "metadata": {},
   "outputs": [
    {
     "data": {
      "text/plain": [
       "array([[2, 4, 6, 8]])"
      ]
     },
     "execution_count": 3,
     "metadata": {},
     "output_type": "execute_result"
    }
   ],
   "source": [
    "import numpy as np\n",
    "a=np.array([2,4,6,8])\n",
    "np.expand_dims(a,axis=0)"
   ]
  },
  {
   "cell_type": "code",
   "execution_count": 2,
   "id": "6a8532fd-18e8-4658-a5fe-ef8393df7f52",
   "metadata": {},
   "outputs": [
    {
     "data": {
      "text/plain": [
       "array([[2],\n",
       "       [4],\n",
       "       [6],\n",
       "       [8]])"
      ]
     },
     "execution_count": 2,
     "metadata": {},
     "output_type": "execute_result"
    }
   ],
   "source": [
    "np.expand_dims(a,axis=1)"
   ]
  },
  {
   "cell_type": "markdown",
   "id": "da8d035f-7a15-4c31-9592-16d38aa2f087",
   "metadata": {},
   "source": [
    "# WHERE :-\n",
    "# whatever the condition written inside the where block is true then it will return the index of an element."
   ]
  },
  {
   "cell_type": "code",
   "execution_count": 6,
   "id": "d9038357-e29b-41d3-8c2d-9de7c2a5e66a",
   "metadata": {},
   "outputs": [
    {
     "data": {
      "text/plain": [
       "(array([ 5,  6,  7,  8,  9, 10, 11, 12, 13, 14, 15], dtype=int64),)"
      ]
     },
     "execution_count": 6,
     "metadata": {},
     "output_type": "execute_result"
    }
   ],
   "source": [
    "import numpy as np\n",
    "a=np.arange(4,20)\n",
    "np.where(a>8)\n"
   ]
  },
  {
   "cell_type": "code",
   "execution_count": 7,
   "id": "2b2c9318-f2a3-4b4c-9cd3-e94bac4ac6db",
   "metadata": {},
   "outputs": [
    {
     "data": {
      "text/plain": [
       "array([ 4,  5,  6,  7, 28, 28, 28, 28, 28, 28, 28, 28, 28, 28, 28, 28])"
      ]
     },
     "execution_count": 7,
     "metadata": {},
     "output_type": "execute_result"
    }
   ],
   "source": [
    "np.where(a>=8,28,a)"
   ]
  },
  {
   "cell_type": "markdown",
   "id": "72c80510-db2e-465b-918b-fed675affb51",
   "metadata": {},
   "source": [
    "# argmax and argmin :- return the index of maximum and minimum elements row wise or column wise"
   ]
  },
  {
   "cell_type": "code",
   "execution_count": 13,
   "id": "8f50cb52-acf5-4ee6-b707-6fc1b7600a0f",
   "metadata": {},
   "outputs": [
    {
     "data": {
      "text/plain": [
       "array([5, 5, 5, 5], dtype=int64)"
      ]
     },
     "execution_count": 13,
     "metadata": {},
     "output_type": "execute_result"
    }
   ],
   "source": [
    "import numpy as np\n",
    "a=np.arange(24,48).reshape(4,6)\n",
    "a\n",
    "np.argmax(a,axis=0)\n",
    "np.argmax(a,axis=1)"
   ]
  },
  {
   "cell_type": "code",
   "execution_count": 14,
   "id": "bdc7d44e-3eab-4e29-83bc-29e69df14818",
   "metadata": {},
   "outputs": [
    {
     "data": {
      "text/plain": [
       "array([[24, 25, 26, 27, 28, 29],\n",
       "       [30, 31, 32, 33, 34, 35],\n",
       "       [36, 37, 38, 39, 40, 41],\n",
       "       [42, 43, 44, 45, 46, 47]])"
      ]
     },
     "execution_count": 14,
     "metadata": {},
     "output_type": "execute_result"
    }
   ],
   "source": [
    "a"
   ]
  },
  {
   "cell_type": "code",
   "execution_count": 16,
   "id": "5c9df55e-aa8e-4f6f-a89f-089e73768aa0",
   "metadata": {},
   "outputs": [
    {
     "data": {
      "text/plain": [
       "array([0, 0, 0, 0], dtype=int64)"
      ]
     },
     "execution_count": 16,
     "metadata": {},
     "output_type": "execute_result"
    }
   ],
   "source": [
    "np.argmin(a,axis=0)\n",
    "np.argmin(a,axis=1)"
   ]
  },
  {
   "cell_type": "markdown",
   "id": "ff650704-2fb6-4d29-a490-d5df04ce5a45",
   "metadata": {},
   "source": [
    "# cumsum"
   ]
  },
  {
   "cell_type": "code",
   "execution_count": 19,
   "id": "9d9671d6-6dac-4732-b4f9-a76bfc98d058",
   "metadata": {},
   "outputs": [
    {
     "data": {
      "text/plain": [
       "array([ 2,  6, 12, 20])"
      ]
     },
     "execution_count": 19,
     "metadata": {},
     "output_type": "execute_result"
    }
   ],
   "source": [
    "import numpy as np\n",
    "a=np.array([2,4,6,8])\n",
    "np.cumsum(a)"
   ]
  },
  {
   "cell_type": "markdown",
   "id": "13258796-86ad-435a-97dc-f7cd30f6ebdd",
   "metadata": {},
   "source": [
    "# cumprod"
   ]
  },
  {
   "cell_type": "code",
   "execution_count": 20,
   "id": "bc45e201-9bf9-47bd-8926-c5d99685dd35",
   "metadata": {},
   "outputs": [
    {
     "data": {
      "text/plain": [
       "array([  2,   8,  48, 384])"
      ]
     },
     "execution_count": 20,
     "metadata": {},
     "output_type": "execute_result"
    }
   ],
   "source": [
    "import numpy as np\n",
    "a=np.array([2,4,6,8])\n",
    "np.cumprod(a)"
   ]
  },
  {
   "cell_type": "markdown",
   "id": "2e84f402-05b8-4454-96b6-2c7874e58e79",
   "metadata": {},
   "source": [
    "# PERCENTILE"
   ]
  },
  {
   "cell_type": "code",
   "execution_count": 22,
   "id": "b46b41dc-63d6-4b23-bf3e-b1831053bd08",
   "metadata": {},
   "outputs": [
    {
     "data": {
      "text/plain": [
       "438.0"
      ]
     },
     "execution_count": 22,
     "metadata": {},
     "output_type": "execute_result"
    }
   ],
   "source": [
    "a=np.array([418,458])\n",
    "np.percentile(a,50)"
   ]
  },
  {
   "cell_type": "markdown",
   "id": "8fd12c04-6a5e-4a29-850e-6d1584aaf829",
   "metadata": {},
   "source": [
    "# isin:- jb ek sath multiple values ko serach krna hai then we used it"
   ]
  },
  {
   "cell_type": "code",
   "execution_count": 24,
   "id": "6058c693-fc63-46c4-ad4a-208490ed9877",
   "metadata": {},
   "outputs": [
    {
     "data": {
      "text/plain": [
       "array([2, 4, 6])"
      ]
     },
     "execution_count": 24,
     "metadata": {},
     "output_type": "execute_result"
    }
   ],
   "source": [
    "import numpy as np\n",
    "a=np.array([2,4,6,8])\n",
    "a[np.isin(a,[4,6,2,18])]"
   ]
  },
  {
   "cell_type": "code",
   "execution_count": null,
   "id": "cf6b74c7-d86d-4814-87eb-9a9a137383b0",
   "metadata": {},
   "outputs": [],
   "source": []
  }
 ],
 "metadata": {
  "kernelspec": {
   "display_name": "Python 3 (ipykernel)",
   "language": "python",
   "name": "python3"
  },
  "language_info": {
   "codemirror_mode": {
    "name": "ipython",
    "version": 3
   },
   "file_extension": ".py",
   "mimetype": "text/x-python",
   "name": "python",
   "nbconvert_exporter": "python",
   "pygments_lexer": "ipython3",
   "version": "3.12.7"
  }
 },
 "nbformat": 4,
 "nbformat_minor": 5
}
