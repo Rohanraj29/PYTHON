{
 "cells": [
  {
   "cell_type": "code",
   "execution_count": 2,
   "id": "02489b7f-31ec-49ee-b90f-76b0621fa810",
   "metadata": {
    "panel-layout": {
     "height": 0,
     "visible": true,
     "width": 100
    }
   },
   "outputs": [
    {
     "name": "stdout",
     "output_type": "stream",
     "text": [
      "1\n",
      "2\n",
      "3\n"
     ]
    }
   ],
   "source": [
    "#      NUMPY FULL COURSE\n",
    "# DIMENSION IN NUMPY ARRAY\n",
    "import numpy as np\n",
    "a=np.array([2,4,6,8])\n",
    "print(a.ndim)\n",
    "\n",
    "b=np.array([[2,4,6,8],[10,12,14,16]])\n",
    "print(b.ndim)\n",
    "\n",
    "c=np.array([[[2,4,6,8],[10,12,14,16]],[[18,20,22,24],[26,28,30,32]]])\n",
    "print(c.ndim)"
   ]
  },
  {
   "cell_type": "code",
   "execution_count": 5,
   "id": "577ec6d3-6beb-4524-a81f-4c277b27bad8",
   "metadata": {
    "panel-layout": {
     "height": 0,
     "visible": true,
     "width": 100
    }
   },
   "outputs": [
    {
     "name": "stdout",
     "output_type": "stream",
     "text": [
      "[0. 0. 0. 0.]\n",
      "[[0. 0.]\n",
      " [0. 0.]\n",
      " [0. 0.]\n",
      " [0. 0.]]\n"
     ]
    }
   ],
   "source": [
    "# CREATING SPECIAL TYPE OF ARRAY IN NUMPY\n",
    "import numpy as np\n",
    "a=np.zeros(4)\n",
    "b=np.zeros([4,2])\n",
    "print(a)\n",
    "print(b)"
   ]
  },
  {
   "cell_type": "code",
   "execution_count": 7,
   "id": "a985ed3f-bed4-43af-9561-01827d5ffa86",
   "metadata": {
    "panel-layout": {
     "height": 0,
     "visible": true,
     "width": 100
    }
   },
   "outputs": [
    {
     "name": "stdout",
     "output_type": "stream",
     "text": [
      "[1. 1. 1. 1.]\n",
      "[[1. 1.]\n",
      " [1. 1.]]\n"
     ]
    }
   ],
   "source": [
    "import numpy as np\n",
    "a=np.ones(4)\n",
    "b=np.ones([2,2])\n",
    "print(a)\n",
    "print(b)"
   ]
  },
  {
   "cell_type": "code",
   "execution_count": 10,
   "id": "598a6a80-a833-4be7-885c-eadedc8efe48",
   "metadata": {
    "panel-layout": {
     "height": 0,
     "visible": true,
     "width": 100
    }
   },
   "outputs": [
    {
     "name": "stdout",
     "output_type": "stream",
     "text": [
      "[6.23042070e-307 4.67296746e-307 1.69121096e-306 1.06811083e-306\n",
      " 1.89146896e-307 7.56571288e-307]\n"
     ]
    }
   ],
   "source": [
    "import numpy as np\n",
    "a=np.empty(6)\n",
    "print(a)"
   ]
  },
  {
   "cell_type": "code",
   "execution_count": 16,
   "id": "a99d3272-7e4e-4b89-8e9b-b021f143b61d",
   "metadata": {
    "panel-layout": {
     "height": 0,
     "visible": true,
     "width": 100
    }
   },
   "outputs": [
    {
     "name": "stdout",
     "output_type": "stream",
     "text": [
      "[0 1 2 3 4 5 6 7 8]\n",
      "[4 5 6 7 8]\n",
      "[1 3 5 7]\n"
     ]
    }
   ],
   "source": [
    "import numpy as np\n",
    "a=np.arange(9)\n",
    "b=np.arange(4,9)\n",
    "c=np.arange(1,9,(2))\n",
    "print(a)\n",
    "print(b)\n",
    "print(c)"
   ]
  },
  {
   "cell_type": "code",
   "execution_count": 17,
   "id": "d38054a9-be41-44ff-9f08-c61ffc5238e8",
   "metadata": {
    "panel-layout": {
     "height": 0,
     "visible": true,
     "width": 100
    }
   },
   "outputs": [
    {
     "name": "stdout",
     "output_type": "stream",
     "text": [
      "[[1. 0. 0. 0.]\n",
      " [0. 1. 0. 0.]\n",
      " [0. 0. 1. 0.]\n",
      " [0. 0. 0. 1.]]\n"
     ]
    }
   ],
   "source": [
    "import numpy as np\n",
    "a=np.eye(4)\n",
    "print(a)"
   ]
  },
  {
   "cell_type": "code",
   "execution_count": 23,
   "id": "000c2574-df72-413c-869a-4c9a9466db68",
   "metadata": {
    "panel-layout": {
     "height": 0,
     "visible": true,
     "width": 100
    }
   },
   "outputs": [
    {
     "name": "stdout",
     "output_type": "stream",
     "text": [
      "float64\n",
      "float32\n"
     ]
    }
   ],
   "source": [
    "# DATA TYPES IN NUMPY ARRAY\n",
    "import numpy as np\n",
    "a=np.array([2,4,6,8],dtype=np.float64)\n",
    "b=np.float32(a)\n",
    "print(a.dtype)\n",
    "print(b.dtype)"
   ]
  },
  {
   "cell_type": "code",
   "execution_count": 24,
   "id": "391de9a3-ee02-4519-b0fd-dd438102ab60",
   "metadata": {
    "panel-layout": {
     "height": 0,
     "visible": true,
     "width": 100
    }
   },
   "outputs": [
    {
     "name": "stdout",
     "output_type": "stream",
     "text": [
      "[0.21781676 0.07974622 0.16814249 0.02822873]\n"
     ]
    }
   ],
   "source": [
    "# CREATING RANDOM VALUES IN NUMPY ARRAY.\n",
    "import numpy as np\n",
    "import random\n",
    "a=np.random.rand(4)\n",
    "print(a)"
   ]
  },
  {
   "cell_type": "code",
   "execution_count": 25,
   "id": "39eb4adf-adfb-449d-ad30-6fa5b67bc48f",
   "metadata": {
    "panel-layout": {
     "height": 0,
     "visible": true,
     "width": 100
    }
   },
   "outputs": [
    {
     "name": "stdout",
     "output_type": "stream",
     "text": [
      "[-0.55001312  0.55722332 -0.94741484  0.63168069]\n"
     ]
    }
   ],
   "source": [
    "import numpy as np\n",
    "import random\n",
    "a=np.random.randn(4)\n",
    "print(a)"
   ]
  },
  {
   "cell_type": "code",
   "execution_count": 27,
   "id": "ce20b9f3-2607-442a-94fb-6eb1a61624a4",
   "metadata": {
    "panel-layout": {
     "height": 0,
     "visible": true,
     "width": 100
    }
   },
   "outputs": [
    {
     "name": "stdout",
     "output_type": "stream",
     "text": [
      "[0.88457247 0.02752122 0.65368107 0.06925105]\n"
     ]
    }
   ],
   "source": [
    "import numpy as np\n",
    "import random\n",
    "a=np.random.ranf(4)\n",
    "print(a)"
   ]
  },
  {
   "cell_type": "code",
   "execution_count": 28,
   "id": "6a269e1c-d1ad-47bc-a7e6-03b6536b3996",
   "metadata": {
    "panel-layout": {
     "height": 0,
     "visible": true,
     "width": 100
    }
   },
   "outputs": [
    {
     "name": "stdout",
     "output_type": "stream",
     "text": [
      "[25 15 14 15 27 23 24 26 26 25 12 20]\n"
     ]
    }
   ],
   "source": [
    "import numpy as np\n",
    "import random\n",
    "a=np.random.randint(10,40,(12))\n",
    "print(a)"
   ]
  },
  {
   "cell_type": "code",
   "execution_count": 29,
   "id": "fb4f75c2-fbe9-4e28-b9b6-d3d2c567beea",
   "metadata": {},
   "outputs": [
    {
     "name": "stdout",
     "output_type": "stream",
     "text": [
      "(4,)\n"
     ]
    }
   ],
   "source": [
    "# SHAPE FUNCTION IN NUMPY ARRAY\n",
    "import numpy as np\n",
    "a=np.array([2,4,6,8])\n",
    "print(a.shape)"
   ]
  },
  {
   "cell_type": "code",
   "execution_count": 30,
   "id": "1b0054f7-5a6e-4ae0-9b0f-9dd7a975b82c",
   "metadata": {},
   "outputs": [
    {
     "name": "stdout",
     "output_type": "stream",
     "text": [
      "(2, 4)\n"
     ]
    }
   ],
   "source": [
    "import numpy as np\n",
    "a=np.array([[2,4,6,8],[10,12,14,16]])\n",
    "print(a.shape)"
   ]
  },
  {
   "cell_type": "code",
   "execution_count": 31,
   "id": "5bf905fc-608f-4ff6-b332-a4c1430fdf08",
   "metadata": {},
   "outputs": [
    {
     "name": "stdout",
     "output_type": "stream",
     "text": [
      "(2, 2, 4)\n"
     ]
    }
   ],
   "source": [
    "import numpy as np\n",
    "a=np.array([[[2,4,6,8],[10,12,14,16]],[[18,20,22,24],[26,28,30,32]]])\n",
    "print(a.shape)"
   ]
  },
  {
   "cell_type": "code",
   "execution_count": 33,
   "id": "a3bfbfc7-c8f3-4a20-8eb7-1b2767fc9626",
   "metadata": {},
   "outputs": [
    {
     "name": "stdout",
     "output_type": "stream",
     "text": [
      "[ 2  4  6  8 10 12 14 16]\n",
      "(8,)\n",
      "[[ 2  4]\n",
      " [ 6  8]\n",
      " [10 12]\n",
      " [14 16]]\n",
      "(4, 2)\n"
     ]
    }
   ],
   "source": [
    "# RESHAPE FUNCTION IN NUMPY ARRAY\n",
    "import numpy as np\n",
    "a=np.array([2,4,6,8,10,12,14,16])\n",
    "print(a)\n",
    "print(a.shape)\n",
    "# RESAHPE 1D ARRAY INTO 2D ARRAY\n",
    "b=a.reshape(4,2)\n",
    "print(b)\n",
    "print(b.shape)"
   ]
  },
  {
   "cell_type": "code",
   "execution_count": 34,
   "id": "3e8497cc-14b3-4963-905f-91e98dde103a",
   "metadata": {},
   "outputs": [
    {
     "name": "stdout",
     "output_type": "stream",
     "text": [
      "[ 2  4  6  8 10 12 14 16]\n",
      "(8,)\n",
      "[[[ 2  4]\n",
      "  [ 6  8]\n",
      "  [10 12]\n",
      "  [14 16]]]\n",
      "(1, 4, 2)\n"
     ]
    }
   ],
   "source": [
    "import numpy as np\n",
    "a=np.array([2,4,6,8,10,12,14,16])\n",
    "print(a)\n",
    "print(a.shape)\n",
    "# RESAHPE 1D ARRAY INTO 3D ARRAY\n",
    "b=a.reshape(1,4,2)\n",
    "print(b)\n",
    "print(b.shape)"
   ]
  },
  {
   "cell_type": "code",
   "execution_count": 36,
   "id": "f7eab2f6-740a-4d01-914b-135902ab6815",
   "metadata": {},
   "outputs": [
    {
     "name": "stdout",
     "output_type": "stream",
     "text": [
      "[[ 2  4  6  8]\n",
      " [10 12 14 16]]\n",
      "(2, 4)\n",
      "[[[ 2  4]\n",
      "  [ 6  8]\n",
      "  [10 12]\n",
      "  [14 16]]]\n",
      "(1, 4, 2)\n"
     ]
    }
   ],
   "source": [
    "import numpy as np\n",
    "a=np.array([[2,4,6,8],[10,12,14,16]])\n",
    "print(a)\n",
    "print(a.shape)\n",
    "\n",
    "# RESHAPE 2D ARRAY INTO 3D ARRAY\n",
    "b=a.reshape(1,4,2)\n",
    "print(b)\n",
    "print(b.shape)"
   ]
  },
  {
   "cell_type": "code",
   "execution_count": 37,
   "id": "1c577b19-f6ca-4d54-b962-0189bfb5c136",
   "metadata": {},
   "outputs": [
    {
     "name": "stdout",
     "output_type": "stream",
     "text": [
      "[[ 2  4  6  8]\n",
      " [10 12 14 16]]\n",
      "(2, 4)\n",
      "[ 2  4  6  8 10 12 14 16]\n",
      "(8,)\n"
     ]
    }
   ],
   "source": [
    "import numpy as np\n",
    "a=np.array([[2,4,6,8],[10,12,14,16]])\n",
    "print(a)\n",
    "print(a.shape)\n",
    "\n",
    "# RESHAPE 2D ARRAY INTO 1D ARRAY\n",
    "b=a.reshape(-1)\n",
    "print(b)\n",
    "print(b.shape)"
   ]
  },
  {
   "cell_type": "code",
   "execution_count": 38,
   "id": "8a25c0c1-a8b5-40d1-a57f-9e71fe41c11a",
   "metadata": {},
   "outputs": [
    {
     "name": "stdout",
     "output_type": "stream",
     "text": [
      "[[[ 2  4  6  8]\n",
      "  [10 12 14 16]]\n",
      "\n",
      " [[18 20 22 24]\n",
      "  [26 28 30 32]]]\n",
      "(2, 2, 4)\n",
      "[ 2  4  6  8 10 12 14 16 18 20 22 24 26 28 30 32]\n",
      "(16,)\n"
     ]
    }
   ],
   "source": [
    "import numpy as np\n",
    "a=np.array([[[2,4,6,8],[10,12,14,16]],[[18,20,22,24],[26,28,30,32]]])\n",
    "print(a)\n",
    "print(a.shape)\n",
    "\n",
    "# RESHAPE 3D ARRAY INTO 1D ARRAY\n",
    "b=a.reshape(-1)\n",
    "print(b)\n",
    "print(b.shape)"
   ]
  },
  {
   "cell_type": "code",
   "execution_count": 39,
   "id": "8adf6b1e-1fca-4a9d-b4f3-6969459d9c64",
   "metadata": {},
   "outputs": [
    {
     "name": "stdout",
     "output_type": "stream",
     "text": [
      "[[[ 2  4  6  8]\n",
      "  [10 12 14 16]]\n",
      "\n",
      " [[18 20 22 24]\n",
      "  [26 28 30 32]]]\n",
      "(2, 2, 4)\n",
      "[[ 2  4  6  8]\n",
      " [10 12 14 16]\n",
      " [18 20 22 24]\n",
      " [26 28 30 32]]\n",
      "(4, 4)\n"
     ]
    }
   ],
   "source": [
    "import numpy as np\n",
    "a=np.array([[[2,4,6,8],[10,12,14,16]],[[18,20,22,24],[26,28,30,32]]])\n",
    "print(a)\n",
    "print(a.shape)\n",
    "\n",
    "# RESHAPE 3D ARRAY INTO 2D ARRAY\n",
    "b=a.reshape(4,4)\n",
    "print(b)\n",
    "print(b.shape)"
   ]
  },
  {
   "cell_type": "code",
   "execution_count": 40,
   "id": "d83e1cae-e65a-40bb-8175-600b6e7a218a",
   "metadata": {},
   "outputs": [
    {
     "name": "stdout",
     "output_type": "stream",
     "text": [
      "2\n",
      "8\n"
     ]
    }
   ],
   "source": [
    "# INDEXING IN NUMPY ARRAY\n",
    "\n",
    "import numpy as np\n",
    "a=np.array([2,4,6,8])\n",
    "print(a[0])\n",
    "print(a[3])"
   ]
  },
  {
   "cell_type": "code",
   "execution_count": 44,
   "id": "6c480a8d-d1e5-4bda-85fb-83e5e542020b",
   "metadata": {},
   "outputs": [
    {
     "name": "stdout",
     "output_type": "stream",
     "text": [
      "4\n",
      "14\n"
     ]
    }
   ],
   "source": [
    "import numpy as np\n",
    "a=np.array([[2,4,6,8],[10,12,14,16]])\n",
    "print(a[0,1])\n",
    "print(a[1,2])"
   ]
  },
  {
   "cell_type": "code",
   "execution_count": 46,
   "id": "20741350-671b-489f-b9e9-56455a24399d",
   "metadata": {},
   "outputs": [
    {
     "name": "stdout",
     "output_type": "stream",
     "text": [
      "12\n",
      "18\n"
     ]
    }
   ],
   "source": [
    "import numpy as np\n",
    "a=np.array([[[2,4,6,8],[10,12,14,16]],[[18,20,22,24],[26,28,30,32]]])\n",
    "print(a[0,1,1])\n",
    "print(a[1,0,0])"
   ]
  },
  {
   "cell_type": "code",
   "execution_count": 47,
   "id": "d84ac80b-c1cf-4bb6-9dd3-2d1a11d61c17",
   "metadata": {},
   "outputs": [
    {
     "name": "stdout",
     "output_type": "stream",
     "text": [
      "[2 4 6]\n"
     ]
    }
   ],
   "source": [
    "# SLICING IN NUMPY ARRAY\n",
    "\n",
    "import numpy as np\n",
    "a=np.array([2,4,6,8])\n",
    "print(a[0:3])"
   ]
  },
  {
   "cell_type": "code",
   "execution_count": 51,
   "id": "3f47c0f8-fe26-42e4-a8d2-c417a0d6d29a",
   "metadata": {},
   "outputs": [
    {
     "name": "stdout",
     "output_type": "stream",
     "text": [
      "[2 4 6]\n",
      "[ 4 12]\n",
      "[[ 2  4  6]\n",
      " [10 12 14]]\n"
     ]
    }
   ],
   "source": [
    "import numpy as np\n",
    "a=np.array([[2,4,6,8],[10,12,14,16]])\n",
    "print(a[0,0:3])\n",
    "print(a[0:2,1])\n",
    "print(a[0:2,0:3])"
   ]
  },
  {
   "cell_type": "code",
   "execution_count": 53,
   "id": "303f8450-5059-42d0-9e44-b32e60956901",
   "metadata": {},
   "outputs": [
    {
     "name": "stdout",
     "output_type": "stream",
     "text": [
      "[2 4]\n",
      "[26 28 30 32]\n"
     ]
    }
   ],
   "source": [
    "import numpy as np\n",
    "a=np.array([[[2,4,6,8],[10,12,14,16]],[[18,20,22,24],[26,28,30,32]]])\n",
    "print(a[0,0,0:2])\n",
    "print(a[1,1,0:4])"
   ]
  },
  {
   "cell_type": "code",
   "execution_count": 59,
   "id": "79f52ac1-ab27-470c-af61-9dc2ba55ff26",
   "metadata": {},
   "outputs": [
    {
     "name": "stdout",
     "output_type": "stream",
     "text": [
      "[20  4  6  8]\n",
      "[2 4 6 8]\n"
     ]
    }
   ],
   "source": [
    "# COPY IN NUMPY ARRAY\n",
    "import numpy as np\n",
    "a=np.array([2,4,6,8])\n",
    "b=a.copy()\n",
    "a[0]=20\n",
    "print(a)\n",
    "print(b)"
   ]
  },
  {
   "cell_type": "code",
   "execution_count": 60,
   "id": "f68526be-fc8b-4aa1-87fd-238688c7d3a0",
   "metadata": {},
   "outputs": [
    {
     "name": "stdout",
     "output_type": "stream",
     "text": [
      "[20  4  6  8]\n",
      "[20  4  6  8]\n"
     ]
    }
   ],
   "source": [
    "# VIEW IN NUMPY ARRAY\n",
    "import numpy as np\n",
    "a=np.array([2,4,6,8])\n",
    "b=a.view()\n",
    "a[0]=20\n",
    "print(a)\n",
    "print(b)"
   ]
  },
  {
   "cell_type": "code",
   "execution_count": 61,
   "id": "5f628542-7895-464f-8821-b16e788d8b81",
   "metadata": {},
   "outputs": [
    {
     "name": "stdout",
     "output_type": "stream",
     "text": [
      "(array([ 3,  4,  9, 15, 16], dtype=int64),)\n"
     ]
    }
   ],
   "source": [
    "# SEARCH FUNCTION\n",
    "a=np.array([2,4,6,8,8,2,4,7,5,8,2,17,52,9,5,8,8])\n",
    "b=np.where(a==8)\n",
    "print(b)"
   ]
  },
  {
   "cell_type": "code",
   "execution_count": 62,
   "id": "8a46f1ed-0b17-461e-9f34-b144d2b4ee12",
   "metadata": {},
   "outputs": [
    {
     "name": "stdout",
     "output_type": "stream",
     "text": [
      "2\n"
     ]
    }
   ],
   "source": [
    "# SEARCH SORTED\n",
    "import numpy as np\n",
    "a=np.array([2,4,6,8])\n",
    "b=np.searchsorted(a,5)\n",
    "print(b)"
   ]
  },
  {
   "cell_type": "code",
   "execution_count": 68,
   "id": "17b28415-ff7d-49b6-ae09-d1e1c28b0bd4",
   "metadata": {},
   "outputs": [
    {
     "name": "stdout",
     "output_type": "stream",
     "text": [
      "[ 2  2  2  4  4  5  5  6  7  8  8  8  8  8  9 18 52]\n"
     ]
    }
   ],
   "source": [
    "# SORT\n",
    "a=np.array([2,4,6,8,8,2,4,7,5,8,2,18,52,9,5,8,8])\n",
    "print(np.sort(a))"
   ]
  },
  {
   "cell_type": "code",
   "execution_count": 65,
   "id": "5f2ccc1f-873f-448e-bd93-1c2ddb343368",
   "metadata": {},
   "outputs": [
    {
     "name": "stdout",
     "output_type": "stream",
     "text": [
      "[8 2 4 6]\n"
     ]
    }
   ],
   "source": [
    "# SHUFFLE FUNCTION\n",
    "import numpy as np\n",
    "import random\n",
    "a=np.array([2,4,6,8])\n",
    "np.random.shuffle(a)\n",
    "print(a)"
   ]
  },
  {
   "cell_type": "code",
   "execution_count": 67,
   "id": "b5f385cb-329c-47e9-8945-28dba6d3b8fc",
   "metadata": {},
   "outputs": [
    {
     "name": "stdout",
     "output_type": "stream",
     "text": [
      "[ 2  4  5  6  7  8  9 18 52]\n"
     ]
    }
   ],
   "source": [
    "# UNIQUE FUNCTION\n",
    "import numpy as np\n",
    "a=np.array([2,4,6,8,8,2,4,7,5,8,2,18,52,9,5,8,8])\n",
    "b=np.unique(a)\n",
    "print(b)"
   ]
  },
  {
   "cell_type": "code",
   "execution_count": null,
   "id": "a54bdfd6-d617-4b17-bcd8-111ce8bdfea4",
   "metadata": {},
   "outputs": [],
   "source": []
  }
 ],
 "metadata": {
  "kernelspec": {
   "display_name": "Python 3 (ipykernel)",
   "language": "python",
   "name": "python3"
  },
  "language_info": {
   "codemirror_mode": {
    "name": "ipython",
    "version": 3
   },
   "file_extension": ".py",
   "mimetype": "text/x-python",
   "name": "python",
   "nbconvert_exporter": "python",
   "pygments_lexer": "ipython3",
   "version": "3.12.7"
  },
  "panel-cell-order": [
   "02489b7f-31ec-49ee-b90f-76b0621fa810",
   "577ec6d3-6beb-4524-a81f-4c277b27bad8",
   "a985ed3f-bed4-43af-9561-01827d5ffa86",
   "598a6a80-a833-4be7-885c-eadedc8efe48",
   "a99d3272-7e4e-4b89-8e9b-b021f143b61d",
   "d38054a9-be41-44ff-9f08-c61ffc5238e8",
   "000c2574-df72-413c-869a-4c9a9466db68",
   "391de9a3-ee02-4519-b0fd-dd438102ab60",
   "39eb4adf-adfb-449d-ad30-6fa5b67bc48f",
   "ce20b9f3-2607-442a-94fb-6eb1a61624a4",
   "6a269e1c-d1ad-47bc-a7e6-03b6536b3996"
  ]
 },
 "nbformat": 4,
 "nbformat_minor": 5
}
